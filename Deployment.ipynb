{
 "cells": [
  {
   "cell_type": "markdown",
   "id": "d50ef213",
   "metadata": {},
   "source": [
    "## Question 1\n",
    "What's the version of pipenv you installed?"
   ]
  },
  {
   "cell_type": "code",
   "execution_count": 7,
   "id": "23f466cd",
   "metadata": {},
   "outputs": [
    {
     "name": "stdout",
     "output_type": "stream",
     "text": [
      "\u001b[1mpipenv\u001b[0m, version 2024.0.1\r\n"
     ]
    }
   ],
   "source": [
    "!pipenv --version"
   ]
  },
  {
   "cell_type": "markdown",
   "id": "dbaf973a",
   "metadata": {},
   "source": [
    "## Question 2\n",
    "What's the first hash for scikit-learn you get in Pipfile.lock?"
   ]
  },
  {
   "cell_type": "code",
   "execution_count": 3,
   "id": "06286913",
   "metadata": {
    "scrolled": true
   },
   "outputs": [
    {
     "name": "stdout",
     "output_type": "stream",
     "text": [
      "{\r\n",
      "    \"_meta\": {\r\n",
      "        \"hash\": {\r\n",
      "            \"sha256\": \"e0d12a0331eb3926e2e7c7c37be9118ab3619b518475b3c3897cdb40da98d9d9\"\r\n",
      "        },\r\n",
      "        \"pipfile-spec\": 6,\r\n",
      "        \"requires\": {\r\n",
      "            \"python_version\": \"3.11\"\r\n",
      "        },\r\n",
      "        \"sources\": [\r\n",
      "            {\r\n",
      "                \"name\": \"pypi\",\r\n",
      "                \"url\": \"https://pypi.org/simple\",\r\n",
      "                \"verify_ssl\": true\r\n",
      "            }\r\n",
      "        ]\r\n",
      "    },\r\n",
      "    \"default\": {\r\n",
      "        \"joblib\": {\r\n",
      "            \"hashes\": [\r\n",
      "                \"sha256:06d478d5674cbc267e7496a410ee875abd68e4340feff4490bcb7afb88060ae6\",\r\n",
      "                \"sha256:2382c5816b2636fbd20a09e0f4e9dad4736765fdfb7dca582943b9c1366b3f0e\"\r\n",
      "            ],\r\n",
      "            \"markers\": \"python_version >= '3.8'\",\r\n",
      "            \"version\": \"==1.4.2\"\r\n",
      "        },\r\n",
      "        \"numpy\": {\r\n",
      "            \"hashes\": [\r\n",
      "                \"sha256:03a8c78d01d9781b28a6989f6fa1bb2c4f2d51201cf99d3dd875df6fbd96b23b\",\r\n",
      "                \"sha256:08beddf13648eb95f8d867350f6a018a4be2e5ad54c8d8caed89ebca558b2818\",\r\n",
      "                \"sha256:1af303d6b2210eb850fcf03064d364652b7120803a0b872f5211f5234b399f20\",\r\n",
      "                \"sha256:1dda2e7b4ec9dd512f84935c5f126c8bd8b9f2fc001e9f54af255e8c5f16b0e0\",\r\n",
      "                \"sha256:2a02aba9ed12e4ac4eb3ea9421c420301a0c6460d9830d74a9df87efa4912010\",\r\n",
      "                \"sha256:2e4ee3380d6de9c9ec04745830fd9e2eccb3e6cf790d39d7b98ffd19b0dd754a\",\r\n",
      "                \"sha256:3373d5d70a5fe74a2c1bb6d2cfd9609ecf686d47a2d7b1d37a8f3b6bf6003aea\",\r\n",
      "                \"sha256:47711010ad8555514b434df65f7d7b076bb8261df1ca9bb78f53d3b2db02e95c\",\r\n",
      "                \"sha256:4c66707fabe114439db9068ee468c26bbdf909cac0fb58686a42a24de1760c71\",\r\n",
      "                \"sha256:50193e430acfc1346175fcbdaa28ffec49947a06918b7b92130744e81e640110\",\r\n",
      "                \"sha256:52b8b60467cd7dd1e9ed082188b4e6bb35aa5cdd01777621a1658910745b90be\",\r\n",
      "                \"sha256:60dedbb91afcbfdc9bc0b1f3f402804070deed7392c23eb7a7f07fa857868e8a\",\r\n",
      "                \"sha256:62b8e4b1e28009ef2846b4c7852046736bab361f7aeadeb6a5b89ebec3c7055a\",\r\n",
      "                \"sha256:666dbfb6ec68962c033a450943ded891bed2d54e6755e35e5835d63f4f6931d5\",\r\n",
      "                \"sha256:675d61ffbfa78604709862923189bad94014bef562cc35cf61d3a07bba02a7ed\",\r\n",
      "                \"sha256:679b0076f67ecc0138fd2ede3a8fd196dddc2ad3254069bcb9faf9a79b1cebcd\",\r\n",
      "                \"sha256:7349ab0fa0c429c82442a27a9673fc802ffdb7c7775fad780226cb234965e53c\",\r\n",
      "                \"sha256:7ab55401287bfec946ced39700c053796e7cc0e3acbef09993a9ad2adba6ca6e\",\r\n",
      "                \"sha256:7e50d0a0cc3189f9cb0aeb3a6a6af18c16f59f004b866cd2be1c14b36134a4a0\",\r\n",
      "                \"sha256:95a7476c59002f2f6c590b9b7b998306fba6a5aa646b1e22ddfeaf8f78c3a29c\",\r\n",
      "                \"sha256:96ff0b2ad353d8f990b63294c8986f1ec3cb19d749234014f4e7eb0112ceba5a\",\r\n",
      "                \"sha256:9fad7dcb1aac3c7f0584a5a8133e3a43eeb2fe127f47e3632d43d677c66c102b\",\r\n",
      "                \"sha256:9ff0f4f29c51e2803569d7a51c2304de5554655a60c5d776e35b4a41413830d0\",\r\n",
      "                \"sha256:a354325ee03388678242a4d7ebcd08b5c727033fcff3b2f536aea978e15ee9e6\",\r\n",
      "                \"sha256:a4abb4f9001ad2858e7ac189089c42178fcce737e4169dc61321660f1a96c7d2\",\r\n",
      "                \"sha256:ab47dbe5cc8210f55aa58e4805fe224dac469cde56b9f731a4c098b91917159a\",\r\n",
      "                \"sha256:afedb719a9dcfc7eaf2287b839d8198e06dcd4cb5d276a3df279231138e83d30\",\r\n",
      "                \"sha256:b3ce300f3644fb06443ee2222c2201dd3a89ea6040541412b8fa189341847218\",\r\n",
      "                \"sha256:b97fe8060236edf3662adfc2c633f56a08ae30560c56310562cb4f95500022d5\",\r\n",
      "                \"sha256:bfe25acf8b437eb2a8b2d49d443800a5f18508cd811fea3181723922a8a82b07\",\r\n",
      "                \"sha256:cd25bcecc4974d09257ffcd1f098ee778f7834c3ad767fe5db785be9a4aa9cb2\",\r\n",
      "                \"sha256:d209d8969599b27ad20994c8e41936ee0964e6da07478d6c35016bc386b66ad4\",\r\n",
      "                \"sha256:d5241e0a80d808d70546c697135da2c613f30e28251ff8307eb72ba696945764\",\r\n",
      "                \"sha256:edd8b5fe47dab091176d21bb6de568acdd906d1887a4584a15a9a96a1dca06ef\",\r\n",
      "                \"sha256:f870204a840a60da0b12273ef34f7051e98c3b5961b61b0c2c1be6dfd64fbcd3\",\r\n",
      "                \"sha256:ffa75af20b44f8dba823498024771d5ac50620e6915abac414251bd971b4529f\"\r\n",
      "            ],\r\n",
      "            \"markers\": \"python_version >= '3.9'\",\r\n",
      "            \"version\": \"==1.26.4\"\r\n",
      "        },\r\n",
      "        \"scikit-learn\": {\r\n",
      "            \"hashes\": [\r\n",
      "                \"sha256:0c275a06c5190c5ce00af0acbb61c06374087949f643ef32d355ece12c4db043\",\r\n",
      "                \"sha256:0ce9233cdf0cdcf0858a5849d306490bf6de71fa7603a3835124e386e62f2311\",\r\n",
      "                \"sha256:0e1aa8f206d0de814b81b41d60c1ce31f7f2c7354597af38fae46d9c47c45122\",\r\n",
      "                \"sha256:14e8775eba072ab10866a7e0596bc9906873e22c4c370a651223372eb62de180\",\r\n",
      "                \"sha256:1a231cced3ee3fa04756b4a7ab532dc9417acd581a330adff5f2c01ac2831fcf\",\r\n",
      "                \"sha256:1ec668ce003a5b3d12d020d2cde0abd64b262ac5f098b5c84cf9657deb9996a8\",\r\n",
      "                \"sha256:3153612ff8d36fa4e35ef8b897167119213698ea78f3fd130b4068e6f8d2da5a\",\r\n",
      "                \"sha256:4d379f2b34096105a96bd857b88601dffe7389bd55750f6f29aaa37bc6272eb5\",\r\n",
      "                \"sha256:52b77cc08bd555969ec5150788ed50276f5ef83abb72e6f469c5b91a0009bbca\",\r\n",
      "                \"sha256:58b0c2490eff8355dc26e884487bf8edaccf2ba48d09b194fb2f3a026dd64f9d\",\r\n",
      "                \"sha256:66f7bb1fec37d65f4ef85953e1df5d3c98a0f0141d394dcdaead5a6de9170347\",\r\n",
      "                \"sha256:6bb9490fdb8e7e00f1354621689187bef3cab289c9b869688f805bf724434755\",\r\n",
      "                \"sha256:7d8dee8c1f40eeba49a85fe378bdf70a07bb64aba1a08fda1e0f48d27edfc3e6\",\r\n",
      "                \"sha256:8454d57a22d856f1fbf3091bd86f9ebd4bff89088819886dc0c72f47a6c30652\",\r\n",
      "                \"sha256:845f81c7ceb4ea6bac64ab1c9f2ce8bef0a84d0f21f3bece2126adcc213dfecd\",\r\n",
      "                \"sha256:8d993fb70a1d78c9798b8f2f28705bfbfcd546b661f9e2e67aa85f81052b9c53\",\r\n",
      "                \"sha256:9147a3a4df4d401e618713880be023e36109c85d8569b3bf5377e6cd3fecdeac\",\r\n",
      "                \"sha256:a15d964d9eb181c79c190d3dbc2fff7338786bf017e9039571418a1d53dab236\",\r\n",
      "                \"sha256:a683394bc3f80b7c312c27f9b14ebea7766b1f0a34faf1a2e9158d80e860ec26\",\r\n",
      "                \"sha256:a7135a03af71138669f19bc96e7d0cc8081aed4b3565cc3b131135d65fc642ba\",\r\n",
      "                \"sha256:c413c2c850241998168bbb3bd1bb59ff03b1195a53864f0b80ab092071af6028\",\r\n",
      "                \"sha256:c6448c37741145b241eeac617028ba6ec2119e1339b1385c9720dae31367f2be\",\r\n",
      "                \"sha256:ccbbedae99325628c1d1cbe3916b7ef58a1ce949672d8d39c8b190e10219fd32\",\r\n",
      "                \"sha256:d2cd3634695ad192bf71645702b3df498bd1e246fc2d529effdb45a06ab028b4\",\r\n",
      "                \"sha256:ef540e09873e31569bc8b02c8a9f745ee04d8e1263255a15c9969f6f5caa627f\",\r\n",
      "                \"sha256:f66eddfda9d45dd6cadcd706b65669ce1df84b8549875691b1f403730bdef217\"\r\n",
      "            ],\r\n",
      "            \"index\": \"pypi\",\r\n",
      "            \"markers\": \"python_version >= '3.8'\",\r\n",
      "            \"version\": \"==1.3.1\"\r\n",
      "        },\r\n",
      "        \"scipy\": {\r\n",
      "            \"hashes\": [\r\n",
      "                \"sha256:017367484ce5498445aade74b1d5ab377acdc65e27095155e448c88497755a5d\",\r\n",
      "                \"sha256:095a87a0312b08dfd6a6155cbbd310a8c51800fc931b8c0b84003014b874ed3c\",\r\n",
      "                \"sha256:20335853b85e9a49ff7572ab453794298bcf0354d8068c5f6775a0eabf350aca\",\r\n",
      "                \"sha256:27e52b09c0d3a1d5b63e1105f24177e544a222b43611aaf5bc44d4a0979e32f9\",\r\n",
      "                \"sha256:2831f0dc9c5ea9edd6e51e6e769b655f08ec6db6e2e10f86ef39bd32eb11da54\",\r\n",
      "                \"sha256:2ac65fb503dad64218c228e2dc2d0a0193f7904747db43014645ae139c8fad16\",\r\n",
      "                \"sha256:392e4ec766654852c25ebad4f64e4e584cf19820b980bc04960bca0b0cd6eaa2\",\r\n",
      "                \"sha256:436bbb42a94a8aeef855d755ce5a465479c721e9d684de76bf61a62e7c2b81d5\",\r\n",
      "                \"sha256:45484bee6d65633752c490404513b9ef02475b4284c4cfab0ef946def50b3f59\",\r\n",
      "                \"sha256:54f430b00f0133e2224c3ba42b805bfd0086fe488835effa33fa291561932326\",\r\n",
      "                \"sha256:5713f62f781eebd8d597eb3f88b8bf9274e79eeabf63afb4a737abc6c84ad37b\",\r\n",
      "                \"sha256:5d72782f39716b2b3509cd7c33cdc08c96f2f4d2b06d51e52fb45a19ca0c86a1\",\r\n",
      "                \"sha256:637e98dcf185ba7f8e663e122ebf908c4702420477ae52a04f9908707456ba4d\",\r\n",
      "                \"sha256:8335549ebbca860c52bf3d02f80784e91a004b71b059e3eea9678ba994796a24\",\r\n",
      "                \"sha256:949ae67db5fa78a86e8fa644b9a6b07252f449dcf74247108c50e1d20d2b4627\",\r\n",
      "                \"sha256:a014c2b3697bde71724244f63de2476925596c24285c7a637364761f8710891c\",\r\n",
      "                \"sha256:a78b4b3345f1b6f68a763c6e25c0c9a23a9fd0f39f5f3d200efe8feda560a5fa\",\r\n",
      "                \"sha256:cdd7dacfb95fea358916410ec61bbc20440f7860333aee6d882bb8046264e949\",\r\n",
      "                \"sha256:cfa31f1def5c819b19ecc3a8b52d28ffdcc7ed52bb20c9a7589669dd3c250989\",\r\n",
      "                \"sha256:d533654b7d221a6a97304ab63c41c96473ff04459e404b83275b60aa8f4b7004\",\r\n",
      "                \"sha256:d605e9c23906d1994f55ace80e0125c587f96c020037ea6aa98d01b4bd2e222f\",\r\n",
      "                \"sha256:de3ade0e53bc1f21358aa74ff4830235d716211d7d077e340c7349bc3542e884\",\r\n",
      "                \"sha256:e89369d27f9e7b0884ae559a3a956e77c02114cc60a6058b4e5011572eea9299\",\r\n",
      "                \"sha256:eccfa1906eacc02de42d70ef4aecea45415f5be17e72b61bafcfd329bdc52e94\",\r\n",
      "                \"sha256:f26264b282b9da0952a024ae34710c2aff7d27480ee91a2e82b7b7073c24722f\"\r\n",
      "            ],\r\n",
      "            \"markers\": \"python_version >= '3.9'\",\r\n",
      "            \"version\": \"==1.13.1\"\r\n",
      "        },\r\n",
      "        \"threadpoolctl\": {\r\n",
      "            \"hashes\": [\r\n",
      "                \"sha256:082433502dd922bf738de0d8bcc4fdcbf0979ff44c42bd40f5af8a282f6fa107\",\r\n",
      "                \"sha256:56c1e26c150397e58c4926da8eeee87533b1e32bef131bd4bf6a2f45f3185467\"\r\n",
      "            ],\r\n",
      "            \"markers\": \"python_version >= '3.8'\",\r\n",
      "            \"version\": \"==3.5.0\"\r\n",
      "        }\r\n",
      "    },\r\n",
      "    \"develop\": {}\r\n",
      "}\r\n"
     ]
    }
   ],
   "source": [
    "!cat ./homework/Pipfile.lock"
   ]
  },
  {
   "cell_type": "code",
   "execution_count": 4,
   "id": "8c88617d",
   "metadata": {
    "collapsed": true
   },
   "outputs": [
    {
     "name": "stdout",
     "output_type": "stream",
     "text": [
      "--2024-06-18 17:07:10--  https://raw.githubusercontent.com/alexeygrigorev/mlbookcamp-code/master/course-zoomcamp/cohorts/2022/05-deployment/homework/model1.bin\n",
      "Resolving raw.githubusercontent.com (raw.githubusercontent.com)... 185.199.110.133, 185.199.111.133, 185.199.108.133, ...\n",
      "Connecting to raw.githubusercontent.com (raw.githubusercontent.com)|185.199.110.133|:443... connected.\n",
      "HTTP request sent, awaiting response... 200 OK\n",
      "Length: 889 [application/octet-stream]\n",
      "Saving to: ‘model1.bin’\n",
      "\n",
      "model1.bin          100%[===================>]     889  --.-KB/s    in 0s      \n",
      "\n",
      "2024-06-18 17:07:10 (30,8 MB/s) - ‘model1.bin’ saved [889/889]\n",
      "\n",
      "--2024-06-18 17:07:10--  https://raw.githubusercontent.com/alexeygrigorev/mlbookcamp-code/master/course-zoomcamp/cohorts/2022/05-deployment/homework/dv.bin\n",
      "Resolving raw.githubusercontent.com (raw.githubusercontent.com)... 185.199.108.133, 185.199.110.133, 185.199.109.133, ...\n",
      "Connecting to raw.githubusercontent.com (raw.githubusercontent.com)|185.199.108.133|:443... connected.\n",
      "HTTP request sent, awaiting response... 200 OK\n",
      "Length: 333 [application/octet-stream]\n",
      "Saving to: ‘dv.bin’\n",
      "\n",
      "dv.bin              100%[===================>]     333  --.-KB/s    in 0s      \n",
      "\n",
      "2024-06-18 17:07:10 (14,2 MB/s) - ‘dv.bin’ saved [333/333]\n",
      "\n"
     ]
    }
   ],
   "source": [
    "PREFIX=\"https://raw.githubusercontent.com/alexeygrigorev/mlbookcamp-code/master/course-zoomcamp/cohorts/2022/05-deployment/homework\"\n",
    "!wget $PREFIX/model1.bin\n",
    "!wget $PREFIX/dv.bin"
   ]
  },
  {
   "cell_type": "code",
   "execution_count": 6,
   "id": "ddc85f59",
   "metadata": {},
   "outputs": [
    {
     "name": "stdout",
     "output_type": "stream",
     "text": [
      "AER_credit_card_data.csv  Deployment.ipynb  homework\t  Introduction.ipynb\r\n",
      "Classification.ipynb\t  dv.bin\t    housing.csv   model1.bin\r\n",
      "data.csv\t\t  Evaluation.ipynb  introduction  Regression.ipynb\r\n"
     ]
    }
   ],
   "source": [
    "!ls"
   ]
  },
  {
   "cell_type": "code",
   "execution_count": 7,
   "id": "d815d473",
   "metadata": {
    "collapsed": true
   },
   "outputs": [
    {
     "name": "stderr",
     "output_type": "stream",
     "text": [
      "/home/unjoku/anaconda3/lib/python3.11/site-packages/sklearn/base.py:318: UserWarning: Trying to unpickle estimator LogisticRegression from version 1.0.2 when using version 1.2.2. This might lead to breaking code or invalid results. Use at your own risk. For more info please refer to:\n",
      "https://scikit-learn.org/stable/model_persistence.html#security-maintainability-limitations\n",
      "  warnings.warn(\n",
      "/home/unjoku/anaconda3/lib/python3.11/site-packages/sklearn/base.py:318: UserWarning: Trying to unpickle estimator DictVectorizer from version 1.0.2 when using version 1.2.2. This might lead to breaking code or invalid results. Use at your own risk. For more info please refer to:\n",
      "https://scikit-learn.org/stable/model_persistence.html#security-maintainability-limitations\n",
      "  warnings.warn(\n"
     ]
    }
   ],
   "source": [
    "import pickle\n",
    "\n",
    "model = \"model1.bin\"\n",
    "vectorizer = \"dv.bin\"\n",
    "\n",
    "with open(model, \"rb\") as f_in:\n",
    "    lr = pickle.load(f_in)\n",
    "    \n",
    "with open(vectorizer, \"rb\") as f_in:\n",
    "    dv = pickle.load(f_in)"
   ]
  },
  {
   "cell_type": "markdown",
   "id": "0bdb7319",
   "metadata": {},
   "source": [
    "## Question 3\n",
    "What's the probability that this client will get a credit card? **0.1621**"
   ]
  },
  {
   "cell_type": "code",
   "execution_count": 9,
   "id": "0c4e1b30",
   "metadata": {},
   "outputs": [
    {
     "data": {
      "text/plain": [
       "0.1621"
      ]
     },
     "execution_count": 9,
     "metadata": {},
     "output_type": "execute_result"
    }
   ],
   "source": [
    "client = {\"reports\": 0, \"share\": 0.001694, \"expenditure\": 0.12, \"owner\": \"yes\"}\n",
    "x = dv.transform([client])\n",
    "round(lr.predict_proba(x)[0, 1], 4)"
   ]
  },
  {
   "cell_type": "markdown",
   "id": "b9adc2c9",
   "metadata": {},
   "source": [
    "## Question 4\n",
    "What's the probability that this client will get a credit card? **0.9282**"
   ]
  },
  {
   "cell_type": "code",
   "execution_count": 12,
   "id": "53753061",
   "metadata": {},
   "outputs": [
    {
     "data": {
      "application/javascript": [
       "IPython.notebook.set_autosave_interval(0)"
      ]
     },
     "metadata": {},
     "output_type": "display_data"
    },
    {
     "name": "stdout",
     "output_type": "stream",
     "text": [
      "Autosave disabled\n"
     ]
    }
   ],
   "source": [
    "%autosave 0"
   ]
  },
  {
   "cell_type": "code",
   "execution_count": 27,
   "id": "f3f7071d",
   "metadata": {},
   "outputs": [
    {
     "name": "stdout",
     "output_type": "stream",
     "text": [
      "{'Decision': True, 'Get card probability': 0.9282}\n"
     ]
    }
   ],
   "source": [
    "import requests\n",
    "url = \"http://127.0.0.1:9001/predict\"\n",
    "client = {\"reports\": 0, \"share\": 0.245, \"expenditure\": 3.438, \"owner\": \"yes\"}\n",
    "response = requests.post(url, json=client).json()\n",
    "print(response)"
   ]
  },
  {
   "cell_type": "code",
   "execution_count": 28,
   "id": "78584157",
   "metadata": {
    "scrolled": true
   },
   "outputs": [
    {
     "name": "stdout",
     "output_type": "stream",
     "text": [
      "The client will get a credit card!\n"
     ]
    }
   ],
   "source": [
    "if response[\"Decision\"] == True:\n",
    "    print(\"The client will get a credit card!\")"
   ]
  },
  {
   "cell_type": "markdown",
   "id": "1e4b1129",
   "metadata": {},
   "source": [
    "## Question 5\n",
    "So what's the size of this base image? **125MB**"
   ]
  },
  {
   "cell_type": "code",
   "execution_count": 33,
   "id": "0d42c4a8",
   "metadata": {},
   "outputs": [
    {
     "name": "stdout",
     "output_type": "stream",
     "text": [
      "········\n",
      "[sudo] password for unjoku: REPOSITORY               TAG           IMAGE ID       CREATED         SIZE\n",
      "test                     pandas        fb5141914428   4 months ago    1.06GB\n",
      "ubuntu                   latest        e34e831650c1   5 months ago    77.9MB\n",
      "python                   3.9           3595702fda76   6 months ago    997MB\n",
      "svizor/zoomcamp-model    3.9.12-slim   571a6fdc554b   20 months ago   125MB\n",
      "python                   3.8.12-slim   513da2530098   2 years ago     122MB\n",
      "compss/compss-tutorial   2.10          62d73d536185   2 years ago     5.17GB\n",
      "hello-world              latest        feb5d9fea6a5   2 years ago     13.3kB\n"
     ]
    }
   ],
   "source": [
    "from getpass import getpass\n",
    "!echo {getpass()} | sudo -S docker images"
   ]
  },
  {
   "cell_type": "markdown",
   "id": "4950a42b",
   "metadata": {},
   "source": [
    "## Question 6\n",
    "What's the probability that this client will get a credit card now? **0.7693**"
   ]
  },
  {
   "cell_type": "code",
   "execution_count": 42,
   "id": "b0637529",
   "metadata": {},
   "outputs": [
    {
     "name": "stdout",
     "output_type": "stream",
     "text": [
      "{'Decision': True, 'Get card probability': 0.7693}\n"
     ]
    }
   ],
   "source": [
    "import requests\n",
    "url = \"http://0.0.0.0:9600/predict\"\n",
    "client = {\"reports\": 0, \"share\": 0.245, \"expenditure\": 3.438, \"owner\": \"yes\"}\n",
    "response = requests.post(url, json=client).json()\n",
    "print(response)"
   ]
  }
 ],
 "metadata": {
  "kernelspec": {
   "display_name": "Python 3 (ipykernel)",
   "language": "python",
   "name": "python3"
  },
  "language_info": {
   "codemirror_mode": {
    "name": "ipython",
    "version": 3
   },
   "file_extension": ".py",
   "mimetype": "text/x-python",
   "name": "python",
   "nbconvert_exporter": "python",
   "pygments_lexer": "ipython3",
   "version": "3.11.5"
  }
 },
 "nbformat": 4,
 "nbformat_minor": 5
}
