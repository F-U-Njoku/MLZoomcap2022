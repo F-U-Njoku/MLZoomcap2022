{
 "cells": [
  {
   "cell_type": "code",
   "execution_count": 1,
   "id": "b9bcd9a3",
   "metadata": {
    "collapsed": true
   },
   "outputs": [
    {
     "name": "stdout",
     "output_type": "stream",
     "text": [
      "--2024-06-06 22:50:10--  https://raw.githubusercontent.com/alexeygrigorev/datasets/master/housing.csv\n",
      "Resolving raw.githubusercontent.com (raw.githubusercontent.com)... 185.199.111.133, 185.199.109.133, 185.199.108.133, ...\n",
      "Connecting to raw.githubusercontent.com (raw.githubusercontent.com)|185.199.111.133|:443... connected.\n",
      "HTTP request sent, awaiting response... 200 OK\n",
      "Length: 1423529 (1,4M) [text/plain]\n",
      "Saving to: ‘housing.csv.1’\n",
      "\n",
      "housing.csv.1       100%[===================>]   1,36M  --.-KB/s    in 0,07s   \n",
      "\n",
      "2024-06-06 22:50:10 (18,3 MB/s) - ‘housing.csv.1’ saved [1423529/1423529]\n",
      "\n"
     ]
    }
   ],
   "source": [
    "#!wget https://raw.githubusercontent.com/alexeygrigorev/datasets/master/housing.csv"
   ]
  },
  {
   "cell_type": "markdown",
   "id": "a2fb96e8",
   "metadata": {},
   "source": [
    "## Data preparation"
   ]
  },
  {
   "cell_type": "code",
   "execution_count": 132,
   "id": "34fff189",
   "metadata": {},
   "outputs": [],
   "source": [
    "import numpy as np\n",
    "import pandas as pd\n",
    "import seaborn as sns\n",
    "from sklearn.linear_model import Ridge\n",
    "from sklearn.metrics import mutual_info_score\n",
    "from sklearn.linear_model import LogisticRegression\n",
    "from sklearn.model_selection import train_test_split"
   ]
  },
  {
   "cell_type": "code",
   "execution_count": 133,
   "id": "54af3abe",
   "metadata": {},
   "outputs": [
    {
     "data": {
      "text/plain": [
       "Index(['longitude', 'latitude', 'housing_median_age', 'total_rooms',\n",
       "       'total_bedrooms', 'population', 'households', 'median_income',\n",
       "       'median_house_value', 'ocean_proximity'],\n",
       "      dtype='object')"
      ]
     },
     "execution_count": 133,
     "metadata": {},
     "output_type": "execute_result"
    }
   ],
   "source": [
    "df.columns"
   ]
  },
  {
   "cell_type": "code",
   "execution_count": 134,
   "id": "688ae6e1",
   "metadata": {},
   "outputs": [],
   "source": [
    "df = pd.read_csv(\"housing.csv\")\n",
    "\n",
    "columns = [ 'latitude',\n",
    "'longitude',\n",
    "'housing_median_age',\n",
    "'total_rooms',\n",
    "'total_bedrooms',\n",
    "'population',\n",
    "'households',\n",
    "'median_income',\n",
    "'median_house_value',\n",
    "'ocean_proximity']\n",
    "\n",
    "df_full = df[columns]"
   ]
  },
  {
   "cell_type": "code",
   "execution_count": 135,
   "id": "8e7e3f32",
   "metadata": {},
   "outputs": [
    {
     "data": {
      "text/plain": [
       "latitude                0\n",
       "longitude               0\n",
       "housing_median_age      0\n",
       "total_rooms             0\n",
       "total_bedrooms        207\n",
       "population              0\n",
       "households              0\n",
       "median_income           0\n",
       "median_house_value      0\n",
       "ocean_proximity         0\n",
       "dtype: int64"
      ]
     },
     "execution_count": 135,
     "metadata": {},
     "output_type": "execute_result"
    }
   ],
   "source": [
    "df_full.isna().sum()"
   ]
  },
  {
   "cell_type": "code",
   "execution_count": 136,
   "id": "a1c14a12",
   "metadata": {},
   "outputs": [],
   "source": [
    "df_full[\"total_bedrooms\"] = df_full.total_bedrooms.fillna(df_full.total_bedrooms.median())\n",
    "\n",
    "df_full[\"rooms_per_household\"] = df_full[\"total_rooms\"]/df_full[\"households\"]\n",
    "df_full[\"bedrooms_per_room\"] = df_full[\"total_bedrooms\"]/df_full[\"total_rooms\"]\n",
    "df_full[\"population_per_household\"] = df_full[\"population\"]/df_full[\"households\"]"
   ]
  },
  {
   "cell_type": "markdown",
   "id": "12a353a0",
   "metadata": {},
   "source": [
    "## Question 1\n",
    "### What is the most frequent observation (mode) for the column ocean_proximity?"
   ]
  },
  {
   "cell_type": "code",
   "execution_count": 137,
   "id": "ad64d207",
   "metadata": {},
   "outputs": [
    {
     "data": {
      "text/plain": [
       "0    <1H OCEAN\n",
       "Name: ocean_proximity, dtype: object"
      ]
     },
     "execution_count": 137,
     "metadata": {},
     "output_type": "execute_result"
    }
   ],
   "source": [
    "df_full.ocean_proximity.mode()"
   ]
  },
  {
   "cell_type": "markdown",
   "id": "82e36ec8",
   "metadata": {},
   "source": [
    "## Question 2\n",
    "\n",
    "1. Create the correlation matrix for the numerical features of your train dataset.\n",
    "    1. In a correlation matrix, you compute the correlation coefficient between every pair of features in the dataset."
   ]
  },
  {
   "cell_type": "code",
   "execution_count": 138,
   "id": "6ac3054a",
   "metadata": {},
   "outputs": [
    {
     "data": {
      "text/html": [
       "<div>\n",
       "<style scoped>\n",
       "    .dataframe tbody tr th:only-of-type {\n",
       "        vertical-align: middle;\n",
       "    }\n",
       "\n",
       "    .dataframe tbody tr th {\n",
       "        vertical-align: top;\n",
       "    }\n",
       "\n",
       "    .dataframe thead th {\n",
       "        text-align: right;\n",
       "    }\n",
       "</style>\n",
       "<table border=\"1\" class=\"dataframe\">\n",
       "  <thead>\n",
       "    <tr style=\"text-align: right;\">\n",
       "      <th></th>\n",
       "      <th>latitude</th>\n",
       "      <th>longitude</th>\n",
       "      <th>housing_median_age</th>\n",
       "      <th>total_rooms</th>\n",
       "      <th>total_bedrooms</th>\n",
       "      <th>population</th>\n",
       "      <th>households</th>\n",
       "      <th>median_income</th>\n",
       "      <th>median_house_value</th>\n",
       "      <th>rooms_per_household</th>\n",
       "      <th>bedrooms_per_room</th>\n",
       "      <th>population_per_household</th>\n",
       "    </tr>\n",
       "  </thead>\n",
       "  <tbody>\n",
       "    <tr>\n",
       "      <th>latitude</th>\n",
       "      <td>1.000000</td>\n",
       "      <td>-0.924664</td>\n",
       "      <td>0.011173</td>\n",
       "      <td>-0.036100</td>\n",
       "      <td>-0.066484</td>\n",
       "      <td>-0.108785</td>\n",
       "      <td>-0.071035</td>\n",
       "      <td>-0.079809</td>\n",
       "      <td>-0.144160</td>\n",
       "      <td>0.106389</td>\n",
       "      <td>-0.098619</td>\n",
       "      <td>0.002366</td>\n",
       "    </tr>\n",
       "    <tr>\n",
       "      <th>longitude</th>\n",
       "      <td>-0.924664</td>\n",
       "      <td>1.000000</td>\n",
       "      <td>-0.108197</td>\n",
       "      <td>0.044568</td>\n",
       "      <td>0.069120</td>\n",
       "      <td>0.099773</td>\n",
       "      <td>0.055310</td>\n",
       "      <td>-0.015176</td>\n",
       "      <td>-0.045967</td>\n",
       "      <td>-0.027540</td>\n",
       "      <td>0.081205</td>\n",
       "      <td>0.002476</td>\n",
       "    </tr>\n",
       "    <tr>\n",
       "      <th>housing_median_age</th>\n",
       "      <td>0.011173</td>\n",
       "      <td>-0.108197</td>\n",
       "      <td>1.000000</td>\n",
       "      <td>-0.361262</td>\n",
       "      <td>-0.319026</td>\n",
       "      <td>-0.296244</td>\n",
       "      <td>-0.302916</td>\n",
       "      <td>-0.119034</td>\n",
       "      <td>0.105623</td>\n",
       "      <td>-0.153277</td>\n",
       "      <td>0.135622</td>\n",
       "      <td>0.013191</td>\n",
       "    </tr>\n",
       "    <tr>\n",
       "      <th>total_rooms</th>\n",
       "      <td>-0.036100</td>\n",
       "      <td>0.044568</td>\n",
       "      <td>-0.361262</td>\n",
       "      <td>1.000000</td>\n",
       "      <td>0.927058</td>\n",
       "      <td>0.857126</td>\n",
       "      <td>0.918484</td>\n",
       "      <td>0.198050</td>\n",
       "      <td>0.134153</td>\n",
       "      <td>0.133798</td>\n",
       "      <td>-0.187381</td>\n",
       "      <td>-0.024581</td>\n",
       "    </tr>\n",
       "    <tr>\n",
       "      <th>total_bedrooms</th>\n",
       "      <td>-0.066484</td>\n",
       "      <td>0.069120</td>\n",
       "      <td>-0.319026</td>\n",
       "      <td>0.927058</td>\n",
       "      <td>1.000000</td>\n",
       "      <td>0.873535</td>\n",
       "      <td>0.974366</td>\n",
       "      <td>-0.007617</td>\n",
       "      <td>0.049457</td>\n",
       "      <td>0.001765</td>\n",
       "      <td>0.071649</td>\n",
       "      <td>-0.028325</td>\n",
       "    </tr>\n",
       "    <tr>\n",
       "      <th>population</th>\n",
       "      <td>-0.108785</td>\n",
       "      <td>0.099773</td>\n",
       "      <td>-0.296244</td>\n",
       "      <td>0.857126</td>\n",
       "      <td>0.873535</td>\n",
       "      <td>1.000000</td>\n",
       "      <td>0.907222</td>\n",
       "      <td>0.004834</td>\n",
       "      <td>-0.024650</td>\n",
       "      <td>-0.072213</td>\n",
       "      <td>0.010035</td>\n",
       "      <td>0.069863</td>\n",
       "    </tr>\n",
       "    <tr>\n",
       "      <th>households</th>\n",
       "      <td>-0.071035</td>\n",
       "      <td>0.055310</td>\n",
       "      <td>-0.302916</td>\n",
       "      <td>0.918484</td>\n",
       "      <td>0.974366</td>\n",
       "      <td>0.907222</td>\n",
       "      <td>1.000000</td>\n",
       "      <td>0.013033</td>\n",
       "      <td>0.065843</td>\n",
       "      <td>-0.080598</td>\n",
       "      <td>0.034498</td>\n",
       "      <td>-0.027309</td>\n",
       "    </tr>\n",
       "    <tr>\n",
       "      <th>median_income</th>\n",
       "      <td>-0.079809</td>\n",
       "      <td>-0.015176</td>\n",
       "      <td>-0.119034</td>\n",
       "      <td>0.198050</td>\n",
       "      <td>-0.007617</td>\n",
       "      <td>0.004834</td>\n",
       "      <td>0.013033</td>\n",
       "      <td>1.000000</td>\n",
       "      <td>0.688075</td>\n",
       "      <td>0.326895</td>\n",
       "      <td>-0.545298</td>\n",
       "      <td>0.018766</td>\n",
       "    </tr>\n",
       "    <tr>\n",
       "      <th>median_house_value</th>\n",
       "      <td>-0.144160</td>\n",
       "      <td>-0.045967</td>\n",
       "      <td>0.105623</td>\n",
       "      <td>0.134153</td>\n",
       "      <td>0.049457</td>\n",
       "      <td>-0.024650</td>\n",
       "      <td>0.065843</td>\n",
       "      <td>0.688075</td>\n",
       "      <td>1.000000</td>\n",
       "      <td>0.151948</td>\n",
       "      <td>-0.233303</td>\n",
       "      <td>-0.023737</td>\n",
       "    </tr>\n",
       "    <tr>\n",
       "      <th>rooms_per_household</th>\n",
       "      <td>0.106389</td>\n",
       "      <td>-0.027540</td>\n",
       "      <td>-0.153277</td>\n",
       "      <td>0.133798</td>\n",
       "      <td>0.001765</td>\n",
       "      <td>-0.072213</td>\n",
       "      <td>-0.080598</td>\n",
       "      <td>0.326895</td>\n",
       "      <td>0.151948</td>\n",
       "      <td>1.000000</td>\n",
       "      <td>-0.370308</td>\n",
       "      <td>-0.004852</td>\n",
       "    </tr>\n",
       "    <tr>\n",
       "      <th>bedrooms_per_room</th>\n",
       "      <td>-0.098619</td>\n",
       "      <td>0.081205</td>\n",
       "      <td>0.135622</td>\n",
       "      <td>-0.187381</td>\n",
       "      <td>0.071649</td>\n",
       "      <td>0.010035</td>\n",
       "      <td>0.034498</td>\n",
       "      <td>-0.545298</td>\n",
       "      <td>-0.233303</td>\n",
       "      <td>-0.370308</td>\n",
       "      <td>1.000000</td>\n",
       "      <td>0.002601</td>\n",
       "    </tr>\n",
       "    <tr>\n",
       "      <th>population_per_household</th>\n",
       "      <td>0.002366</td>\n",
       "      <td>0.002476</td>\n",
       "      <td>0.013191</td>\n",
       "      <td>-0.024581</td>\n",
       "      <td>-0.028325</td>\n",
       "      <td>0.069863</td>\n",
       "      <td>-0.027309</td>\n",
       "      <td>0.018766</td>\n",
       "      <td>-0.023737</td>\n",
       "      <td>-0.004852</td>\n",
       "      <td>0.002601</td>\n",
       "      <td>1.000000</td>\n",
       "    </tr>\n",
       "  </tbody>\n",
       "</table>\n",
       "</div>"
      ],
      "text/plain": [
       "                          latitude  longitude  housing_median_age  \\\n",
       "latitude                  1.000000  -0.924664            0.011173   \n",
       "longitude                -0.924664   1.000000           -0.108197   \n",
       "housing_median_age        0.011173  -0.108197            1.000000   \n",
       "total_rooms              -0.036100   0.044568           -0.361262   \n",
       "total_bedrooms           -0.066484   0.069120           -0.319026   \n",
       "population               -0.108785   0.099773           -0.296244   \n",
       "households               -0.071035   0.055310           -0.302916   \n",
       "median_income            -0.079809  -0.015176           -0.119034   \n",
       "median_house_value       -0.144160  -0.045967            0.105623   \n",
       "rooms_per_household       0.106389  -0.027540           -0.153277   \n",
       "bedrooms_per_room        -0.098619   0.081205            0.135622   \n",
       "population_per_household  0.002366   0.002476            0.013191   \n",
       "\n",
       "                          total_rooms  total_bedrooms  population  households  \\\n",
       "latitude                    -0.036100       -0.066484   -0.108785   -0.071035   \n",
       "longitude                    0.044568        0.069120    0.099773    0.055310   \n",
       "housing_median_age          -0.361262       -0.319026   -0.296244   -0.302916   \n",
       "total_rooms                  1.000000        0.927058    0.857126    0.918484   \n",
       "total_bedrooms               0.927058        1.000000    0.873535    0.974366   \n",
       "population                   0.857126        0.873535    1.000000    0.907222   \n",
       "households                   0.918484        0.974366    0.907222    1.000000   \n",
       "median_income                0.198050       -0.007617    0.004834    0.013033   \n",
       "median_house_value           0.134153        0.049457   -0.024650    0.065843   \n",
       "rooms_per_household          0.133798        0.001765   -0.072213   -0.080598   \n",
       "bedrooms_per_room           -0.187381        0.071649    0.010035    0.034498   \n",
       "population_per_household    -0.024581       -0.028325    0.069863   -0.027309   \n",
       "\n",
       "                          median_income  median_house_value  \\\n",
       "latitude                      -0.079809           -0.144160   \n",
       "longitude                     -0.015176           -0.045967   \n",
       "housing_median_age            -0.119034            0.105623   \n",
       "total_rooms                    0.198050            0.134153   \n",
       "total_bedrooms                -0.007617            0.049457   \n",
       "population                     0.004834           -0.024650   \n",
       "households                     0.013033            0.065843   \n",
       "median_income                  1.000000            0.688075   \n",
       "median_house_value             0.688075            1.000000   \n",
       "rooms_per_household            0.326895            0.151948   \n",
       "bedrooms_per_room             -0.545298           -0.233303   \n",
       "population_per_household       0.018766           -0.023737   \n",
       "\n",
       "                          rooms_per_household  bedrooms_per_room  \\\n",
       "latitude                             0.106389          -0.098619   \n",
       "longitude                           -0.027540           0.081205   \n",
       "housing_median_age                  -0.153277           0.135622   \n",
       "total_rooms                          0.133798          -0.187381   \n",
       "total_bedrooms                       0.001765           0.071649   \n",
       "population                          -0.072213           0.010035   \n",
       "households                          -0.080598           0.034498   \n",
       "median_income                        0.326895          -0.545298   \n",
       "median_house_value                   0.151948          -0.233303   \n",
       "rooms_per_household                  1.000000          -0.370308   \n",
       "bedrooms_per_room                   -0.370308           1.000000   \n",
       "population_per_household            -0.004852           0.002601   \n",
       "\n",
       "                          population_per_household  \n",
       "latitude                                  0.002366  \n",
       "longitude                                 0.002476  \n",
       "housing_median_age                        0.013191  \n",
       "total_rooms                              -0.024581  \n",
       "total_bedrooms                           -0.028325  \n",
       "population                                0.069863  \n",
       "households                               -0.027309  \n",
       "median_income                             0.018766  \n",
       "median_house_value                       -0.023737  \n",
       "rooms_per_household                      -0.004852  \n",
       "bedrooms_per_room                         0.002601  \n",
       "population_per_household                  1.000000  "
      ]
     },
     "execution_count": 138,
     "metadata": {},
     "output_type": "execute_result"
    }
   ],
   "source": [
    "numerical = ['latitude', 'longitude', 'housing_median_age', 'total_rooms',\n",
    "       'total_bedrooms', 'population', 'households', 'median_income',\n",
    "       'median_house_value', 'rooms_per_household',\n",
    "       'bedrooms_per_room', 'population_per_household']\n",
    "df_full[numerical].corr()"
   ]
  },
  {
   "cell_type": "code",
   "execution_count": 139,
   "id": "a85a221a",
   "metadata": {},
   "outputs": [
    {
     "data": {
      "text/plain": [
       "<Axes: >"
      ]
     },
     "execution_count": 139,
     "metadata": {},
     "output_type": "execute_result"
    },
    {
     "data": {
      "image/png": "[encoded data removed]",
      "text/plain": [
       "<Figure size 640x480 with 2 Axes>"
      ]
     },
     "metadata": {},
     "output_type": "display_data"
    }
   ],
   "source": [
    "sns.heatmap(df_full[numerical].corr(), cmap=\"Blues\")"
   ]
  },
  {
   "cell_type": "markdown",
   "id": "a6d35073",
   "metadata": {},
   "source": [
    "### What are the two features that have the biggest correlation in this dataset? households and total_bedrooms"
   ]
  },
  {
   "cell_type": "markdown",
   "id": "77735f0a",
   "metadata": {},
   "source": [
    "#### Make median_house_value binary\n",
    "\n",
    "    We need to turn the median_house_value variable from numeric into binary.\n",
    "    Let's create a variable above_average which is 1 if the median_house_value is above its mean value and 0 otherwise.\n",
    "\n",
    "#### Split the data\n",
    "\n",
    "    Split your data in train/val/test sets, with 60%/20%/20% distribution.\n",
    "    Use Scikit-Learn for that (the train_test_split function) and set the seed to 42.\n",
    "    Make sure that the target value (median_house_value) is not in your dataframe.\n"
   ]
  },
  {
   "cell_type": "code",
   "execution_count": 140,
   "id": "14353169",
   "metadata": {},
   "outputs": [],
   "source": [
    "df_full[\"above_average\"] = (df_full.median_house_value > df_full.median_house_value.mean()).astype(int)"
   ]
  },
  {
   "cell_type": "code",
   "execution_count": 141,
   "id": "34a0f8af",
   "metadata": {},
   "outputs": [],
   "source": [
    "train_full, test = train_test_split(df_full, random_state=42,  test_size=0.2)\n",
    "train, val = train_test_split(train_full, random_state=42, test_size=0.25)"
   ]
  },
  {
   "cell_type": "markdown",
   "id": "e9bc57bd",
   "metadata": {},
   "source": [
    "## Question 3\n",
    "\n",
    "1. Calculate the mutual information score between above_average and ocean_proximity . Use the training set only.\n",
    "2. Round it to 2 decimals using round(score, 2)\n",
    "3. What is their mutual information score?\n"
   ]
  },
  {
   "cell_type": "code",
   "execution_count": 142,
   "id": "ebceccf5",
   "metadata": {},
   "outputs": [
    {
     "data": {
      "text/plain": [
       "0.1"
      ]
     },
     "execution_count": 142,
     "metadata": {},
     "output_type": "execute_result"
    }
   ],
   "source": [
    "round(mutual_info_score(train[\"above_average\"], train[\"ocean_proximity\"]), 2)"
   ]
  },
  {
   "cell_type": "markdown",
   "id": "332380f5",
   "metadata": {},
   "source": [
    "## Question 4\n",
    "\n",
    "1. Now let's train a logistic regression\n",
    "2. Remember that we have one categorical variable ocean_proximity in the data. Include it using one-hot encoding.\n",
    "3. Fit the model on the training dataset.\n",
    "4. To make sure the results are reproducible across different versions of Scikit-Learn, fit the model with these parameters:\n",
    "5. model = LogisticRegression(solver=\"liblinear\", C=1.0, max_iter=1000, random_state=42)\n",
    "6. Calculate the accuracy on the validation dataset and round it to 2 decimal digits."
   ]
  },
  {
   "cell_type": "code",
   "execution_count": 165,
   "id": "44154c11",
   "metadata": {},
   "outputs": [],
   "source": [
    "y_train, y_val, y_test = train[\"above_average\"], val[\"above_average\"], test[\"above_average\"]"
   ]
  },
  {
   "cell_type": "code",
   "execution_count": 162,
   "id": "036f5b85",
   "metadata": {},
   "outputs": [],
   "source": [
    "x_train = pd.get_dummies(train.drop(columns=[\"above_average\", \"median_house_value\"]), \n",
    "                         prefix=\"ocean_proximity\", columns=[\"ocean_proximity\"], dtype=int, drop_first=True)\n",
    "x_val = pd.get_dummies(val.drop(columns=[\"above_average\", \"median_house_value\"]), \n",
    "                       prefix=\"ocean_proximity\", columns=[\"ocean_proximity\"], dtype=int, drop_first=True)\n",
    "x_test = pd.get_dummies(test.drop(columns=[\"above_average\", \"median_house_value\"]), \n",
    "                        prefix=\"ocean_proximity\", columns=[\"ocean_proximity\"], dtype=int, drop_first=True)"
   ]
  },
  {
   "cell_type": "code",
   "execution_count": 163,
   "id": "0b17d7ad",
   "metadata": {},
   "outputs": [
    {
     "data": {
      "text/html": [
       "<div>\n",
       "<style scoped>\n",
       "    .dataframe tbody tr th:only-of-type {\n",
       "        vertical-align: middle;\n",
       "    }\n",
       "\n",
       "    .dataframe tbody tr th {\n",
       "        vertical-align: top;\n",
       "    }\n",
       "\n",
       "    .dataframe thead th {\n",
       "        text-align: right;\n",
       "    }\n",
       "</style>\n",
       "<table border=\"1\" class=\"dataframe\">\n",
       "  <thead>\n",
       "    <tr style=\"text-align: right;\">\n",
       "      <th></th>\n",
       "      <th>latitude</th>\n",
       "      <th>longitude</th>\n",
       "      <th>housing_median_age</th>\n",
       "      <th>total_rooms</th>\n",
       "      <th>total_bedrooms</th>\n",
       "      <th>population</th>\n",
       "      <th>households</th>\n",
       "      <th>median_income</th>\n",
       "      <th>rooms_per_household</th>\n",
       "      <th>bedrooms_per_room</th>\n",
       "      <th>population_per_household</th>\n",
       "      <th>ocean_proximity_INLAND</th>\n",
       "      <th>ocean_proximity_ISLAND</th>\n",
       "      <th>ocean_proximity_NEAR BAY</th>\n",
       "      <th>ocean_proximity_NEAR OCEAN</th>\n",
       "    </tr>\n",
       "  </thead>\n",
       "  <tbody>\n",
       "    <tr>\n",
       "      <th>17244</th>\n",
       "      <td>34.43</td>\n",
       "      <td>-119.67</td>\n",
       "      <td>39.0</td>\n",
       "      <td>1467.0</td>\n",
       "      <td>381.0</td>\n",
       "      <td>1404.0</td>\n",
       "      <td>374.0</td>\n",
       "      <td>2.3681</td>\n",
       "      <td>3.922460</td>\n",
       "      <td>0.259714</td>\n",
       "      <td>3.754011</td>\n",
       "      <td>0</td>\n",
       "      <td>0</td>\n",
       "      <td>0</td>\n",
       "      <td>0</td>\n",
       "    </tr>\n",
       "    <tr>\n",
       "      <th>8817</th>\n",
       "      <td>33.74</td>\n",
       "      <td>-118.32</td>\n",
       "      <td>24.0</td>\n",
       "      <td>6097.0</td>\n",
       "      <td>794.0</td>\n",
       "      <td>2248.0</td>\n",
       "      <td>806.0</td>\n",
       "      <td>10.1357</td>\n",
       "      <td>7.564516</td>\n",
       "      <td>0.130228</td>\n",
       "      <td>2.789082</td>\n",
       "      <td>0</td>\n",
       "      <td>0</td>\n",
       "      <td>0</td>\n",
       "      <td>1</td>\n",
       "    </tr>\n",
       "    <tr>\n",
       "      <th>19686</th>\n",
       "      <td>39.13</td>\n",
       "      <td>-121.62</td>\n",
       "      <td>41.0</td>\n",
       "      <td>1317.0</td>\n",
       "      <td>309.0</td>\n",
       "      <td>856.0</td>\n",
       "      <td>337.0</td>\n",
       "      <td>1.6719</td>\n",
       "      <td>3.908012</td>\n",
       "      <td>0.234624</td>\n",
       "      <td>2.540059</td>\n",
       "      <td>1</td>\n",
       "      <td>0</td>\n",
       "      <td>0</td>\n",
       "      <td>0</td>\n",
       "    </tr>\n",
       "    <tr>\n",
       "      <th>3545</th>\n",
       "      <td>34.24</td>\n",
       "      <td>-118.63</td>\n",
       "      <td>9.0</td>\n",
       "      <td>4759.0</td>\n",
       "      <td>924.0</td>\n",
       "      <td>1884.0</td>\n",
       "      <td>915.0</td>\n",
       "      <td>4.8333</td>\n",
       "      <td>5.201093</td>\n",
       "      <td>0.194158</td>\n",
       "      <td>2.059016</td>\n",
       "      <td>0</td>\n",
       "      <td>0</td>\n",
       "      <td>0</td>\n",
       "      <td>0</td>\n",
       "    </tr>\n",
       "    <tr>\n",
       "      <th>17019</th>\n",
       "      <td>37.52</td>\n",
       "      <td>-122.30</td>\n",
       "      <td>38.0</td>\n",
       "      <td>2769.0</td>\n",
       "      <td>387.0</td>\n",
       "      <td>994.0</td>\n",
       "      <td>395.0</td>\n",
       "      <td>5.5902</td>\n",
       "      <td>7.010127</td>\n",
       "      <td>0.139762</td>\n",
       "      <td>2.516456</td>\n",
       "      <td>0</td>\n",
       "      <td>0</td>\n",
       "      <td>0</td>\n",
       "      <td>1</td>\n",
       "    </tr>\n",
       "  </tbody>\n",
       "</table>\n",
       "</div>"
      ],
      "text/plain": [
       "       latitude  longitude  housing_median_age  total_rooms  total_bedrooms  \\\n",
       "17244     34.43    -119.67                39.0       1467.0           381.0   \n",
       "8817      33.74    -118.32                24.0       6097.0           794.0   \n",
       "19686     39.13    -121.62                41.0       1317.0           309.0   \n",
       "3545      34.24    -118.63                 9.0       4759.0           924.0   \n",
       "17019     37.52    -122.30                38.0       2769.0           387.0   \n",
       "\n",
       "       population  households  median_income  rooms_per_household  \\\n",
       "17244      1404.0       374.0         2.3681             3.922460   \n",
       "8817       2248.0       806.0        10.1357             7.564516   \n",
       "19686       856.0       337.0         1.6719             3.908012   \n",
       "3545       1884.0       915.0         4.8333             5.201093   \n",
       "17019       994.0       395.0         5.5902             7.010127   \n",
       "\n",
       "       bedrooms_per_room  population_per_household  ocean_proximity_INLAND  \\\n",
       "17244           0.259714                  3.754011                       0   \n",
       "8817            0.130228                  2.789082                       0   \n",
       "19686           0.234624                  2.540059                       1   \n",
       "3545            0.194158                  2.059016                       0   \n",
       "17019           0.139762                  2.516456                       0   \n",
       "\n",
       "       ocean_proximity_ISLAND  ocean_proximity_NEAR BAY  \\\n",
       "17244                       0                         0   \n",
       "8817                        0                         0   \n",
       "19686                       0                         0   \n",
       "3545                        0                         0   \n",
       "17019                       0                         0   \n",
       "\n",
       "       ocean_proximity_NEAR OCEAN  \n",
       "17244                           0  \n",
       "8817                            1  \n",
       "19686                           0  \n",
       "3545                            0  \n",
       "17019                           1  "
      ]
     },
     "execution_count": 163,
     "metadata": {},
     "output_type": "execute_result"
    }
   ],
   "source": [
    "x_train.head()"
   ]
  },
  {
   "cell_type": "code",
   "execution_count": 166,
   "id": "c52cac71",
   "metadata": {},
   "outputs": [
    {
     "data": {
      "text/html": [
       "<style>#sk-container-id-7 {color: black;background-color: white;}#sk-container-id-7 pre{padding: 0;}#sk-container-id-7 div.sk-toggleable {background-color: white;}#sk-container-id-7 label.sk-toggleable__label {cursor: pointer;display: block;width: 100%;margin-bottom: 0;padding: 0.3em;box-sizing: border-box;text-align: center;}#sk-container-id-7 label.sk-toggleable__label-arrow:before {content: \"▸\";float: left;margin-right: 0.25em;color: #696969;}#sk-container-id-7 label.sk-toggleable__label-arrow:hover:before {color: black;}#sk-container-id-7 div.sk-estimator:hover label.sk-toggleable__label-arrow:before {color: black;}#sk-container-id-7 div.sk-toggleable__content {max-height: 0;max-width: 0;overflow: hidden;text-align: left;background-color: #f0f8ff;}#sk-container-id-7 div.sk-toggleable__content pre {margin: 0.2em;color: black;border-radius: 0.25em;background-color: #f0f8ff;}#sk-container-id-7 input.sk-toggleable__control:checked~div.sk-toggleable__content {max-height: 200px;max-width: 100%;overflow: auto;}#sk-container-id-7 input.sk-toggleable__control:checked~label.sk-toggleable__label-arrow:before {content: \"▾\";}#sk-container-id-7 div.sk-estimator input.sk-toggleable__control:checked~label.sk-toggleable__label {background-color: #d4ebff;}#sk-container-id-7 div.sk-label input.sk-toggleable__control:checked~label.sk-toggleable__label {background-color: #d4ebff;}#sk-container-id-7 input.sk-hidden--visually {border: 0;clip: rect(1px 1px 1px 1px);clip: rect(1px, 1px, 1px, 1px);height: 1px;margin: -1px;overflow: hidden;padding: 0;position: absolute;width: 1px;}#sk-container-id-7 div.sk-estimator {font-family: monospace;background-color: #f0f8ff;border: 1px dotted black;border-radius: 0.25em;box-sizing: border-box;margin-bottom: 0.5em;}#sk-container-id-7 div.sk-estimator:hover {background-color: #d4ebff;}#sk-container-id-7 div.sk-parallel-item::after {content: \"\";width: 100%;border-bottom: 1px solid gray;flex-grow: 1;}#sk-container-id-7 div.sk-label:hover label.sk-toggleable__label {background-color: #d4ebff;}#sk-container-id-7 div.sk-serial::before {content: \"\";position: absolute;border-left: 1px solid gray;box-sizing: border-box;top: 0;bottom: 0;left: 50%;z-index: 0;}#sk-container-id-7 div.sk-serial {display: flex;flex-direction: column;align-items: center;background-color: white;padding-right: 0.2em;padding-left: 0.2em;position: relative;}#sk-container-id-7 div.sk-item {position: relative;z-index: 1;}#sk-container-id-7 div.sk-parallel {display: flex;align-items: stretch;justify-content: center;background-color: white;position: relative;}#sk-container-id-7 div.sk-item::before, #sk-container-id-7 div.sk-parallel-item::before {content: \"\";position: absolute;border-left: 1px solid gray;box-sizing: border-box;top: 0;bottom: 0;left: 50%;z-index: -1;}#sk-container-id-7 div.sk-parallel-item {display: flex;flex-direction: column;z-index: 1;position: relative;background-color: white;}#sk-container-id-7 div.sk-parallel-item:first-child::after {align-self: flex-end;width: 50%;}#sk-container-id-7 div.sk-parallel-item:last-child::after {align-self: flex-start;width: 50%;}#sk-container-id-7 div.sk-parallel-item:only-child::after {width: 0;}#sk-container-id-7 div.sk-dashed-wrapped {border: 1px dashed gray;margin: 0 0.4em 0.5em 0.4em;box-sizing: border-box;padding-bottom: 0.4em;background-color: white;}#sk-container-id-7 div.sk-label label {font-family: monospace;font-weight: bold;display: inline-block;line-height: 1.2em;}#sk-container-id-7 div.sk-label-container {text-align: center;}#sk-container-id-7 div.sk-container {/* jupyter's `normalize.less` sets `[hidden] { display: none; }` but bootstrap.min.css set `[hidden] { display: none !important; }` so we also need the `!important` here to be able to override the default hidden behavior on the sphinx rendered scikit-learn.org. See: https://github.com/scikit-learn/scikit-learn/issues/21755 */display: inline-block !important;position: relative;}#sk-container-id-7 div.sk-text-repr-fallback {display: none;}</style><div id=\"sk-container-id-7\" class=\"sk-top-container\"><div class=\"sk-text-repr-fallback\"><pre>LogisticRegression(max_iter=1000, random_state=42, solver=&#x27;liblinear&#x27;)</pre><b>In a Jupyter environment, please rerun this cell to show the HTML representation or trust the notebook. <br />On GitHub, the HTML representation is unable to render, please try loading this page with nbviewer.org.</b></div><div class=\"sk-container\" hidden><div class=\"sk-item\"><div class=\"sk-estimator sk-toggleable\"><input class=\"sk-toggleable__control sk-hidden--visually\" id=\"sk-estimator-id-7\" type=\"checkbox\" checked><label for=\"sk-estimator-id-7\" class=\"sk-toggleable__label sk-toggleable__label-arrow\">LogisticRegression</label><div class=\"sk-toggleable__content\"><pre>LogisticRegression(max_iter=1000, random_state=42, solver=&#x27;liblinear&#x27;)</pre></div></div></div></div></div>"
      ],
      "text/plain": [
       "LogisticRegression(max_iter=1000, random_state=42, solver='liblinear')"
      ]
     },
     "execution_count": 166,
     "metadata": {},
     "output_type": "execute_result"
    }
   ],
   "source": [
    "lr = LogisticRegression(solver=\"liblinear\", C=1.0, max_iter=1000, random_state=42)\n",
    "lr.fit(x_train, y_train)"
   ]
  },
  {
   "cell_type": "code",
   "execution_count": 167,
   "id": "3da674af",
   "metadata": {},
   "outputs": [
    {
     "data": {
      "text/plain": [
       "0.84"
      ]
     },
     "execution_count": 167,
     "metadata": {},
     "output_type": "execute_result"
    }
   ],
   "source": [
    "y_pred_val = lr.predict_proba(x_val)[:,1]\n",
    "y_pred_val = (y_pred_val>=0.5).astype(int)\n",
    "round((y_pred_val ==  y_val).mean(),2)"
   ]
  },
  {
   "cell_type": "markdown",
   "id": "714e00c7",
   "metadata": {},
   "source": [
    "## Question 5\n",
    "- Let's find the least useful feature using the feature elimination technique.\n",
    "- Train a model with all these features (using the same parameters as in Q4).\n",
    "- Now exclude each feature from this set and train a model without it. Record the accuracy for each model.\n",
    "- For each feature, calculate the difference between the original accuracy and the accuracy without the feature.\n",
    "- Which of following feature has the smallest difference? --> **\"total_rooms\"**"
   ]
  },
  {
   "cell_type": "code",
   "execution_count": 174,
   "id": "6fc8b0aa",
   "metadata": {},
   "outputs": [
    {
     "data": {
      "text/plain": [
       "0.8381782945736435"
      ]
     },
     "execution_count": 174,
     "metadata": {},
     "output_type": "execute_result"
    }
   ],
   "source": [
    "lr.fit(x_train.drop(columns=[\"total_rooms\"]), y_train)\n",
    "\n",
    "y_pred_val = lr.predict_proba(x_val.drop(columns=[\"total_rooms\"]))[:,1]\n",
    "y_pred_val = (y_pred_val>=0.5).astype(int)\n",
    "(y_pred_val ==  y_val).mean()  "
   ]
  },
  {
   "cell_type": "code",
   "execution_count": 175,
   "id": "b89e4215",
   "metadata": {},
   "outputs": [
    {
     "data": {
      "text/plain": [
       "0.8364825581395349"
      ]
     },
     "execution_count": 175,
     "metadata": {},
     "output_type": "execute_result"
    }
   ],
   "source": [
    "lr.fit(x_train.drop(columns=[\"total_bedrooms\"]), y_train)\n",
    "\n",
    "y_pred_val = lr.predict_proba(x_val.drop(columns=[\"total_bedrooms\"]))[:,1]\n",
    "y_pred_val = (y_pred_val>=0.5).astype(int)\n",
    "(y_pred_val ==  y_val).mean()   "
   ]
  },
  {
   "cell_type": "code",
   "execution_count": 176,
   "id": "b1c84a1a",
   "metadata": {},
   "outputs": [
    {
     "data": {
      "text/plain": [
       "0.8284883720930233"
      ]
     },
     "execution_count": 176,
     "metadata": {},
     "output_type": "execute_result"
    }
   ],
   "source": [
    "lr.fit(x_train.drop(columns=[\"population\"]), y_train)\n",
    "\n",
    "y_pred_val = lr.predict_proba(x_val.drop(columns=[\"population\"]))[:,1]\n",
    "y_pred_val = (y_pred_val>=0.5).astype(int)\n",
    "(y_pred_val ==  y_val).mean()"
   ]
  },
  {
   "cell_type": "code",
   "execution_count": 177,
   "id": "8aec2829",
   "metadata": {},
   "outputs": [
    {
     "data": {
      "text/plain": [
       "0.8330910852713178"
      ]
     },
     "execution_count": 177,
     "metadata": {},
     "output_type": "execute_result"
    }
   ],
   "source": [
    "lr.fit(x_train.drop(columns=[\"households\"]), y_train)\n",
    "\n",
    "y_pred_val = lr.predict_proba(x_val.drop(columns=[\"households\"]))[:,1]\n",
    "y_pred_val = (y_pred_val>=0.5).astype(int)\n",
    "(y_pred_val ==  y_val).mean()   "
   ]
  },
  {
   "cell_type": "markdown",
   "id": "035cd56a",
   "metadata": {},
   "source": [
    "## Question 6\n",
    "\n",
    "- For this question, we'll see how to use a linear regression model from Scikit-Learn\n",
    "- We'll need to use the original column 'median_house_value'. Apply the logarithmic transformation to this column.\n",
    "- Fit the Ridge regression model (model = Ridge(alpha=a, solver=\"sag\", random_state=42)) on the training data.\n",
    "- This model has a parameter alpha. Let's try the following values: [0, 0.01, 0.1, 1, 10]\n",
    "- Which of these alphas leads to the best RMSE on the validation set? Round your RMSE scores to 3 decimal digits.\n",
    "\n",
    "- If there are multiple options, select the smallest alpha. --> *0*"
   ]
  },
  {
   "cell_type": "code",
   "execution_count": 157,
   "id": "a964c1fa",
   "metadata": {},
   "outputs": [],
   "source": [
    "y_train, y_val, y_test = np.log1p(train[\"median_house_value\"]), np.log1p(val[\"median_house_value\"]), np.log1p(test[\"median_house_value\"])"
   ]
  },
  {
   "cell_type": "code",
   "execution_count": 159,
   "id": "9d5ec34a",
   "metadata": {},
   "outputs": [],
   "source": [
    "x_train = pd.get_dummies(train.drop(columns=[\"above_average\", \"median_house_value\"]), \n",
    "                         prefix=\"ocean_proximity\", columns=[\"ocean_proximity\"], dtype=int)\n",
    "x_val = pd.get_dummies(val.drop(columns=[\"above_average\", \"median_house_value\"]), \n",
    "                       prefix=\"ocean_proximity\", columns=[\"ocean_proximity\"], dtype=int)\n",
    "x_test = pd.get_dummies(test.drop(columns=[\"above_average\", \"median_house_value\"]), \n",
    "                        prefix=\"ocean_proximity\", columns=[\"ocean_proximity\"], dtype=int)"
   ]
  },
  {
   "cell_type": "code",
   "execution_count": 160,
   "id": "5bdc67e9",
   "metadata": {},
   "outputs": [],
   "source": [
    "def rmse(y, y_pred):\n",
    "    error = y_pred - y\n",
    "    mse = (error ** 2).mean()\n",
    "    return np.sqrt(mse)"
   ]
  },
  {
   "cell_type": "code",
   "execution_count": 161,
   "id": "ad6cd7a5",
   "metadata": {
    "scrolled": false
   },
   "outputs": [
    {
     "name": "stderr",
     "output_type": "stream",
     "text": [
      "/home/unjoku/anaconda3/lib/python3.11/site-packages/sklearn/linear_model/_sag.py:350: ConvergenceWarning: The max_iter was reached which means the coef_ did not converge\n",
      "  warnings.warn(\n"
     ]
    },
    {
     "name": "stdout",
     "output_type": "stream",
     "text": [
      "0 0.523\n"
     ]
    },
    {
     "name": "stderr",
     "output_type": "stream",
     "text": [
      "/home/unjoku/anaconda3/lib/python3.11/site-packages/sklearn/linear_model/_sag.py:350: ConvergenceWarning: The max_iter was reached which means the coef_ did not converge\n",
      "  warnings.warn(\n"
     ]
    },
    {
     "name": "stdout",
     "output_type": "stream",
     "text": [
      "0.01 0.523\n"
     ]
    },
    {
     "name": "stderr",
     "output_type": "stream",
     "text": [
      "/home/unjoku/anaconda3/lib/python3.11/site-packages/sklearn/linear_model/_sag.py:350: ConvergenceWarning: The max_iter was reached which means the coef_ did not converge\n",
      "  warnings.warn(\n"
     ]
    },
    {
     "name": "stdout",
     "output_type": "stream",
     "text": [
      "0.1 0.523\n"
     ]
    },
    {
     "name": "stderr",
     "output_type": "stream",
     "text": [
      "/home/unjoku/anaconda3/lib/python3.11/site-packages/sklearn/linear_model/_sag.py:350: ConvergenceWarning: The max_iter was reached which means the coef_ did not converge\n",
      "  warnings.warn(\n"
     ]
    },
    {
     "name": "stdout",
     "output_type": "stream",
     "text": [
      "1 0.523\n",
      "10 0.523\n"
     ]
    },
    {
     "name": "stderr",
     "output_type": "stream",
     "text": [
      "/home/unjoku/anaconda3/lib/python3.11/site-packages/sklearn/linear_model/_sag.py:350: ConvergenceWarning: The max_iter was reached which means the coef_ did not converge\n",
      "  warnings.warn(\n"
     ]
    }
   ],
   "source": [
    "import numpy as np\n",
    "from sklearn.linear_model import Ridge\n",
    "for a in  [0, 0.01, 0.1, 1, 10]:\n",
    "    rr = Ridge(alpha=a, solver=\"sag\", random_state=42)\n",
    "    rr.fit(x_train, y_train)\n",
    "    y_pred_val = rr.predict(x_val)\n",
    "    score = round(rmse(y_val, y_pred_val), 3)\n",
    "    print(a, score)"
   ]
  }
 ],
 "metadata": {
  "kernelspec": {
   "display_name": "Python 3 (ipykernel)",
   "language": "python",
   "name": "python3"
  },
  "language_info": {
   "codemirror_mode": {
    "name": "ipython",
    "version": 3
   },
   "file_extension": ".py",
   "mimetype": "text/x-python",
   "name": "python",
   "nbconvert_exporter": "python",
   "pygments_lexer": "ipython3",
   "version": "3.11.5"
  }
 },
 "nbformat": 4,
 "nbformat_minor": 5
}
