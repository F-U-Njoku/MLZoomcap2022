{
 "cells": [
  {
   "cell_type": "code",
   "execution_count": 74,
   "id": "4f5ef140",
   "metadata": {},
   "outputs": [],
   "source": [
    "import warnings\n",
    "import numpy as np\n",
    "import pandas as pd\n",
    "import seaborn as sns\n",
    "import matplotlib.pyplot as plt\n",
    "warnings.filterwarnings('ignore')"
   ]
  },
  {
   "cell_type": "markdown",
   "id": "ebc2ff58",
   "metadata": {},
   "source": [
    "## Dataset"
   ]
  },
  {
   "cell_type": "code",
   "execution_count": 2,
   "id": "48e71dc3",
   "metadata": {
    "collapsed": true
   },
   "outputs": [
    {
     "name": "stdout",
     "output_type": "stream",
     "text": [
      "--2024-05-28 18:58:45--  https://raw.githubusercontent.com/alexeygrigorev/datasets/master/housing.csv\n",
      "Resolving raw.githubusercontent.com (raw.githubusercontent.com)... 185.199.110.133, 185.199.111.133, 185.199.108.133, ...\n",
      "Connecting to raw.githubusercontent.com (raw.githubusercontent.com)|185.199.110.133|:443... connected.\n",
      "HTTP request sent, awaiting response... 200 OK\n",
      "Length: 1423529 (1,4M) [text/plain]\n",
      "Saving to: ‘housing.csv’\n",
      "\n",
      "housing.csv         100%[===================>]   1,36M  --.-KB/s    in 0,1s    \n",
      "\n",
      "2024-05-28 18:58:45 (10,2 MB/s) - ‘housing.csv’ saved [1423529/1423529]\n",
      "\n"
     ]
    }
   ],
   "source": [
    "!wget https://raw.githubusercontent.com/alexeygrigorev/datasets/master/housing.csv"
   ]
  },
  {
   "cell_type": "markdown",
   "id": "e41929e3",
   "metadata": {},
   "source": [
    "## EDA"
   ]
  },
  {
   "cell_type": "code",
   "execution_count": 3,
   "id": "9ae98541",
   "metadata": {},
   "outputs": [],
   "source": [
    "df = pd.read_csv(\"housing.csv\")"
   ]
  },
  {
   "cell_type": "markdown",
   "id": "6c05fc9e",
   "metadata": {},
   "source": [
    "### Look at the median_house_value variable. "
   ]
  },
  {
   "cell_type": "code",
   "execution_count": 13,
   "id": "c47d5d24",
   "metadata": {},
   "outputs": [
    {
     "name": "stderr",
     "output_type": "stream",
     "text": [
      "/home/unjoku/anaconda3/lib/python3.11/site-packages/seaborn/_oldcore.py:1119: FutureWarning: use_inf_as_na option is deprecated and will be removed in a future version. Convert inf values to NaN before operating instead.\n",
      "  with pd.option_context('mode.use_inf_as_na', True):\n"
     ]
    },
    {
     "data": {
      "image/png": "[encoded data removed]",
      "text/plain": [
       "<Figure size 640x480 with 1 Axes>"
      ]
     },
     "metadata": {},
     "output_type": "display_data"
    }
   ],
   "source": [
    "sns.histplot(df[\"median_house_value\"]);"
   ]
  },
  {
   "cell_type": "markdown",
   "id": "8bb5e6dc",
   "metadata": {},
   "source": [
    "### Does it have a long tail? No"
   ]
  },
  {
   "cell_type": "code",
   "execution_count": 91,
   "id": "858a74b2",
   "metadata": {},
   "outputs": [],
   "source": [
    "df_work = df.drop(columns='ocean_proximity')"
   ]
  },
  {
   "cell_type": "markdown",
   "id": "bd8ba458",
   "metadata": {},
   "source": [
    "## Question 1\n",
    "### Find a feature with missing values. How many missing values does it have?"
   ]
  },
  {
   "cell_type": "code",
   "execution_count": 92,
   "id": "45f10977",
   "metadata": {},
   "outputs": [
    {
     "data": {
      "text/plain": [
       "total_bedrooms    207\n",
       "dtype: int64"
      ]
     },
     "execution_count": 92,
     "metadata": {},
     "output_type": "execute_result"
    }
   ],
   "source": [
    "df_work.isna().sum()[df_work.isna().sum() > 0]"
   ]
  },
  {
   "cell_type": "markdown",
   "id": "2dfd45b4",
   "metadata": {},
   "source": [
    "## Question 2\n",
    "### What's the median (50% percentile) for variable 'population'?"
   ]
  },
  {
   "cell_type": "code",
   "execution_count": 93,
   "id": "8d18cfd3",
   "metadata": {},
   "outputs": [
    {
     "data": {
      "text/plain": [
       "count    20640.000000\n",
       "mean      1425.476744\n",
       "std       1132.462122\n",
       "min          3.000000\n",
       "25%        787.000000\n",
       "50%       1166.000000\n",
       "75%       1725.000000\n",
       "max      35682.000000\n",
       "Name: population, dtype: float64"
      ]
     },
     "execution_count": 93,
     "metadata": {},
     "output_type": "execute_result"
    }
   ],
   "source": [
    "df_work.population.describe()"
   ]
  },
  {
   "cell_type": "markdown",
   "id": "ad0cfe3a",
   "metadata": {},
   "source": [
    "## Split the data\n",
    "1. Shuffle the initial dataset, use seed 42.\n",
    "2. Split your data in train/val/test sets, with 60%/20%/20% distribution.\n",
    "3. Make sure that the target value ('median_house_value') is not in your dataframe.\n",
    "4. Apply the log transformation to the median_house_value variable using the np.log1p() function."
   ]
  },
  {
   "cell_type": "code",
   "execution_count": 121,
   "id": "9999317e",
   "metadata": {},
   "outputs": [],
   "source": [
    "n = len(df_work)\n",
    "nval = int(0.2 * n)\n",
    "ntest = int(0.2 * n)\n",
    "ntrain = n - (nval + ntest)\n",
    "assert (nval+ ntest +ntrain) == n\n",
    "\n",
    "idx = np.arange(n)\n",
    "np.random.seed(42)\n",
    "np.random.shuffle(idx)\n",
    "df_shuffled = df_work.iloc[idx]\n",
    "\n",
    "df_train = df_shuffled.iloc[:ntrain]\n",
    "df_val = df_shuffled.iloc[ntrain:ntrain+nval]\n",
    "df_test = df_shuffled.iloc[ntrain+nval:]\n",
    "\n",
    "df_train = df_train.reset_index(drop=True)\n",
    "df_val = df_val.reset_index(drop=True)\n",
    "df_test = df_test.reset_index(drop=True)\n",
    "\n",
    "y_train = np.log1p(df_train['median_house_value'].values)\n",
    "y_val = np.log1p(df_val['median_house_value'].values)\n",
    "y_test = np.log1p(df_test['median_house_value'].values)"
   ]
  },
  {
   "cell_type": "code",
   "execution_count": 122,
   "id": "69519c74",
   "metadata": {},
   "outputs": [],
   "source": [
    "del df_val['median_house_value']\n",
    "del df_test['median_house_value']\n",
    "del df_train['median_house_value']"
   ]
  },
  {
   "cell_type": "markdown",
   "id": "8790225a",
   "metadata": {},
   "source": [
    "## Question 3\n",
    "1. We need to deal with missing values for the column from Q1.\n",
    "2. We have two options: fill it with 0 or with the mean of this variable.\n",
    "3. Try both options. For each, train a linear regression model without regularization using the code from the lessons.\n",
    "4. For computing the mean, use the training only!\n",
    "5. Use the validation dataset to evaluate the models and compare the RMSE of each option.\n",
    "6. Round the RMSE scores to 2 decimal digits using round(score, 2)"
   ]
  },
  {
   "cell_type": "code",
   "execution_count": 123,
   "id": "b35ca7f2",
   "metadata": {},
   "outputs": [],
   "source": [
    "def train_linear_regression(X, y):\n",
    "    ones = np.ones(X.shape[0])\n",
    "    X = np.column_stack([ones, X])\n",
    "\n",
    "    XTX = X.T.dot(X)\n",
    "    XTX_inv = np.linalg.inv(XTX)\n",
    "    w = XTX_inv.dot(X.T).dot(y)\n",
    "    \n",
    "    return w[0], w[1:]\n"
   ]
  },
  {
   "cell_type": "code",
   "execution_count": 124,
   "id": "f3b08728",
   "metadata": {},
   "outputs": [],
   "source": [
    "def rmse(y, y_pred):\n",
    "    error = y_pred - y\n",
    "    mse = (error ** 2).mean()\n",
    "    return np.sqrt(mse)"
   ]
  },
  {
   "cell_type": "markdown",
   "id": "4fed4316",
   "metadata": {},
   "source": [
    "#### Option 1"
   ]
  },
  {
   "cell_type": "code",
   "execution_count": 125,
   "id": "00afb4e6",
   "metadata": {},
   "outputs": [],
   "source": [
    "# Training\n",
    "df_val1 = df_val.copy()\n",
    "df_test1 = df_test.copy()\n",
    "df_train1 = df_train.copy()\n",
    "\n",
    "df_val1.total_bedrooms.fillna(0, inplace=True)\n",
    "df_test1.total_bedrooms.fillna(0, inplace=True)\n",
    "df_train1.total_bedrooms.fillna(0, inplace=True)\n",
    "\n",
    "w01, w1 = train_linear_regression(df_train1.values, y_train)\n",
    "y_pred1 = w01 + df_train1.values.dot(w1)"
   ]
  },
  {
   "cell_type": "code",
   "execution_count": 126,
   "id": "6643e901",
   "metadata": {},
   "outputs": [
    {
     "data": {
      "image/png": "[encoded data removed]",
      "text/plain": [
       "<Figure size 640x480 with 1 Axes>"
      ]
     },
     "metadata": {},
     "output_type": "display_data"
    }
   ],
   "source": [
    "sns.histplot(y_pred1, color=\"red\", alpha=0.5, bins = 50)\n",
    "sns.histplot(y_train, color=\"blue\", alpha=0.5, bins = 50);"
   ]
  },
  {
   "cell_type": "code",
   "execution_count": 127,
   "id": "51136e21",
   "metadata": {},
   "outputs": [
    {
     "data": {
      "text/plain": [
       "0.33"
      ]
     },
     "execution_count": 127,
     "metadata": {},
     "output_type": "execute_result"
    }
   ],
   "source": [
    "# Evaluation\n",
    "y_pred1 = w01 + df_val1.values.dot(w1)\n",
    "round(rmse(y_val, y_pred1), 2)"
   ]
  },
  {
   "cell_type": "markdown",
   "id": "12c8fc32",
   "metadata": {},
   "source": [
    "#### Option 2"
   ]
  },
  {
   "cell_type": "code",
   "execution_count": 128,
   "id": "7f8f1b23",
   "metadata": {},
   "outputs": [],
   "source": [
    "fill_mean = df_train.total_bedrooms.mean()\n",
    "\n",
    "df_val2 = df_val.copy()\n",
    "df_test2 = df_test.copy()\n",
    "df_train2 = df_train.copy()\n",
    "\n",
    "df_val2.total_bedrooms.fillna(fill_mean, inplace=True)\n",
    "df_test2.total_bedrooms.fillna(fill_mean, inplace=True)\n",
    "df_train2.total_bedrooms.fillna(fill_mean, inplace=True)\n",
    "\n",
    "w02, w2 = train_linear_regression(df_train2.values, y_train)\n",
    "y_pred2 = w02 + df_train2.values.dot(w2)"
   ]
  },
  {
   "cell_type": "code",
   "execution_count": 129,
   "id": "4e130624",
   "metadata": {},
   "outputs": [
    {
     "data": {
      "image/png": "[encoded data removed]",
      "text/plain": [
       "<Figure size 640x480 with 1 Axes>"
      ]
     },
     "metadata": {},
     "output_type": "display_data"
    }
   ],
   "source": [
    "sns.histplot(y_pred2, color=\"red\", alpha=0.5, bins = 50)\n",
    "sns.histplot(y_train, color=\"blue\", alpha=0.5, bins = 50);"
   ]
  },
  {
   "cell_type": "code",
   "execution_count": 130,
   "id": "974e75bb",
   "metadata": {},
   "outputs": [
    {
     "data": {
      "text/plain": [
       "0.33"
      ]
     },
     "execution_count": 130,
     "metadata": {},
     "output_type": "execute_result"
    }
   ],
   "source": [
    "# Evaluation\n",
    "y_pred2 = w01 + df_val2.values.dot(w1)\n",
    "round(rmse(y_val, y_pred2), 2)"
   ]
  },
  {
   "cell_type": "markdown",
   "id": "697978ec",
   "metadata": {},
   "source": [
    "### Which option gives better RMSE?\n",
    "#### They give the same result"
   ]
  },
  {
   "cell_type": "markdown",
   "id": "0866dc0b",
   "metadata": {},
   "source": [
    "## Question 4\n",
    "1. Now let's train a regularized linear regression.\n",
    "2. For this question, fill the NAs with 0.\n",
    "3. Try different values of r from this list: [0, 0.000001, 0.0001, 0.001, 0.01, 0.1, 1, 5, 10].\n",
    "4. Use RMSE to evaluate the model on the validation dataset.\n",
    "5. Round the RMSE scores to 2 decimal digits.\n",
    "\n",
    "If there are multiple options, select the smallest r."
   ]
  },
  {
   "cell_type": "code",
   "execution_count": 131,
   "id": "752b05e0",
   "metadata": {},
   "outputs": [],
   "source": [
    "def train_linear_regression_reg(X, y, r=0.0):\n",
    "    ones = np.ones(X.shape[0])\n",
    "    X = np.column_stack([ones, X])\n",
    "\n",
    "    XTX = X.T.dot(X)\n",
    "    reg = r * np.eye(XTX.shape[0])\n",
    "    XTX = XTX + reg\n",
    "\n",
    "    XTX_inv = np.linalg.inv(XTX)\n",
    "    w = XTX_inv.dot(X.T).dot(y)\n",
    "    \n",
    "    return w[0], w[1:]"
   ]
  },
  {
   "cell_type": "markdown",
   "id": "f3ff5108",
   "metadata": {},
   "source": [
    "### Which r gives the best RMSE?"
   ]
  },
  {
   "cell_type": "code",
   "execution_count": 132,
   "id": "c41476f4",
   "metadata": {},
   "outputs": [
    {
     "name": "stdout",
     "output_type": "stream",
     "text": [
      "0 0.33\n",
      "1e-06 0.33\n",
      "0.0001 0.33\n",
      "0.001 0.33\n",
      "0.01 0.33\n",
      "0.1 0.33\n",
      "1 0.33\n",
      "5 0.34\n",
      "10 0.34\n"
     ]
    }
   ],
   "source": [
    "rs = [0, 0.000001, 0.0001, 0.001, 0.01, 0.1, 1, 5, 10]\n",
    "for r in rs:\n",
    "    w01, w1  = train_linear_regression_reg(df_train1.values, y_train, r=r)\n",
    "    y_pred1 = w01 + df_val1.values.dot(w1)\n",
    "    print(r, round(rmse(y_val, y_pred1), 2))"
   ]
  },
  {
   "cell_type": "markdown",
   "id": "1b925d27",
   "metadata": {},
   "source": [
    "## Question 5\n",
    "1. We used seed 42 for splitting the data. Let's find out how selecting the seed influences our score.\n",
    "2. Try different seed values: [0, 1, 2, 3, 4, 5, 6, 7, 8, 9].\n",
    "3. For each seed, do the train/validation/test split with 60%/20%/20% distribution.\n",
    "4. Fill the missing values with 0 and train a model without regularization.\n",
    "5. For each seed, evaluate the model on the validation dataset and collect the RMSE scores.\n",
    "6. What's the standard deviation of all the scores? To compute the standard deviation, use np.std.\n",
    "7. Round the result to 3 decimal digits (round(std, 3))"
   ]
  },
  {
   "cell_type": "code",
   "execution_count": 137,
   "id": "3bf65471",
   "metadata": {},
   "outputs": [
    {
     "name": "stdout",
     "output_type": "stream",
     "text": [
      "0.005\n"
     ]
    }
   ],
   "source": [
    "rmses = []\n",
    "for s in [0, 1, 2, 3, 4, 5, 6, 7, 8, 9]:  \n",
    "    np.random.seed(s)\n",
    "    n = len(df_work)\n",
    "    nval = int(0.2 * n)\n",
    "    ntest = int(0.2 * n)\n",
    "    ntrain = n - (nval + ntest)\n",
    "    assert (nval+ ntest +ntrain) == n\n",
    "\n",
    "    idx = np.arange(n)\n",
    "    np.random.shuffle(idx)\n",
    "    df_shuffled = df_work.iloc[idx]\n",
    "\n",
    "    df_train = df_shuffled.iloc[:ntrain]\n",
    "    df_val = df_shuffled.iloc[ntrain:ntrain+nval]\n",
    "    df_test = df_shuffled.iloc[ntrain+nval:]\n",
    "\n",
    "    df_train = df_train.reset_index(drop=True)\n",
    "    df_val = df_val.reset_index(drop=True)\n",
    "    df_test = df_test.reset_index(drop=True)\n",
    "\n",
    "    y_train = np.log1p(df_train['median_house_value'].values)\n",
    "    y_val = np.log1p(df_val['median_house_value'].values)\n",
    "    y_test = np.log1p(df_test['median_house_value'].values)\n",
    "\n",
    "    del df_val['median_house_value']\n",
    "    del df_test['median_house_value']\n",
    "    del df_train['median_house_value']\n",
    "\n",
    "    # Training\n",
    "    df_val1 = df_val.copy()\n",
    "    df_test1 = df_test.copy()\n",
    "    df_train1 = df_train.copy()\n",
    "\n",
    "    df_val1.total_bedrooms.fillna(0, inplace=True)\n",
    "    df_test1.total_bedrooms.fillna(0, inplace=True)\n",
    "    df_train1.total_bedrooms.fillna(0, inplace=True)\n",
    "\n",
    "    w01, w1 = train_linear_regression(df_train1.values, y_train)\n",
    "    y_pred1 = w01 + df_val1.values.dot(w1)\n",
    "    rmses.append(round(rmse(y_val, y_pred1),2))\n",
    "\n",
    "\n",
    "print(round(np.std(rmses), 3))"
   ]
  },
  {
   "cell_type": "markdown",
   "id": "3274fb97",
   "metadata": {},
   "source": [
    "## Question 6\n",
    "\n",
    "1. Split the dataset like previously, use seed 9.\n",
    "2. Combine train and validation datasets.\n",
    "3. Fill the missing values with 0 and train a model with r=0.001.\n",
    "\n",
    "What's the RMSE on the test dataset?"
   ]
  },
  {
   "cell_type": "code",
   "execution_count": 145,
   "id": "8cd18fc1",
   "metadata": {},
   "outputs": [
    {
     "name": "stdout",
     "output_type": "stream",
     "text": [
      "0.35\n"
     ]
    }
   ],
   "source": [
    "np.random.seed(9)\n",
    "n = len(df_work)\n",
    "nval = int(0.2 * n)\n",
    "ntest = int(0.2 * n)\n",
    "ntrain = n - (nval + ntest)\n",
    "assert (nval+ ntest +ntrain) == n\n",
    "\n",
    "idx = np.arange(n)\n",
    "np.random.shuffle(idx)\n",
    "df_shuffled = df_work.iloc[idx]\n",
    "\n",
    "df_train = df_shuffled.iloc[:ntrain]\n",
    "df_val = df_shuffled.iloc[ntrain:ntrain+nval]\n",
    "df_test = df_shuffled.iloc[ntrain+nval:]\n",
    "\n",
    "df_train = df_train.reset_index(drop=True)\n",
    "df_val = df_val.reset_index(drop=True)\n",
    "df_test = df_test.reset_index(drop=True)\n",
    "\n",
    "y_train = np.log1p(df_train['median_house_value'].values)\n",
    "y_val = np.log1p(df_val['median_house_value'].values)\n",
    "y_test = np.log1p(df_test['median_house_value'].values)\n",
    "\n",
    "del df_val['median_house_value']\n",
    "del df_test['median_house_value']\n",
    "del df_train['median_house_value']\n",
    "\n",
    "# Training\n",
    "df_val1 = df_val.copy()\n",
    "df_test1 = df_test.copy()\n",
    "df_train1 = df_train.copy()\n",
    "\n",
    "df_val1.total_bedrooms.fillna(0, inplace=True)\n",
    "df_test1.total_bedrooms.fillna(0, inplace=True)\n",
    "df_train1.total_bedrooms.fillna(0, inplace=True)\n",
    "\n",
    "newx = np.concatenate((df_train1, df_val1) , axis=0)\n",
    "newy = np.concatenate((y_train , y_val), axis=0)\n",
    "\n",
    "w01, w1  = train_linear_regression_reg(newx, newy, r=0.001)\n",
    "y_pred1 = w01 + df_test1.values.dot(w1)\n",
    "print(round(rmse(y_test, y_pred1),2))"
   ]
  }
 ],
 "metadata": {
  "kernelspec": {
   "display_name": "Python 3 (ipykernel)",
   "language": "python",
   "name": "python3"
  },
  "language_info": {
   "codemirror_mode": {
    "name": "ipython",
    "version": 3
   },
   "file_extension": ".py",
   "mimetype": "text/x-python",
   "name": "python",
   "nbconvert_exporter": "python",
   "pygments_lexer": "ipython3",
   "version": "3.11.5"
  }
 },
 "nbformat": 4,
 "nbformat_minor": 5
}
