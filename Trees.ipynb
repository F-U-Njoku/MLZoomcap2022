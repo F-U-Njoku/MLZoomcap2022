{
 "cells": [
  {
   "cell_type": "code",
   "execution_count": 122,
   "id": "1c7019da",
   "metadata": {},
   "outputs": [],
   "source": [
    "import numpy as np\n",
    "import pandas as pd\n",
    "from tqdm.auto import tqdm\n",
    "import matplotlib.pyplot as plt\n",
    "import xgboost as xgb\n",
    "from sklearn.metrics import mean_squared_error\n",
    "from sklearn.ensemble import RandomForestRegressor\n",
    "from sklearn.model_selection import train_test_split\n",
    "from sklearn.feature_extraction import DictVectorizer\n",
    "from sklearn.tree import DecisionTreeRegressor, export_text"
   ]
  },
  {
   "cell_type": "code",
   "execution_count": 4,
   "id": "3462ff87",
   "metadata": {},
   "outputs": [
    {
     "data": {
      "text/html": [
       "<div>\n",
       "<style scoped>\n",
       "    .dataframe tbody tr th:only-of-type {\n",
       "        vertical-align: middle;\n",
       "    }\n",
       "\n",
       "    .dataframe tbody tr th {\n",
       "        vertical-align: top;\n",
       "    }\n",
       "\n",
       "    .dataframe thead th {\n",
       "        text-align: right;\n",
       "    }\n",
       "</style>\n",
       "<table border=\"1\" class=\"dataframe\">\n",
       "  <thead>\n",
       "    <tr style=\"text-align: right;\">\n",
       "      <th></th>\n",
       "      <th>longitude</th>\n",
       "      <th>latitude</th>\n",
       "      <th>housing_median_age</th>\n",
       "      <th>total_rooms</th>\n",
       "      <th>total_bedrooms</th>\n",
       "      <th>population</th>\n",
       "      <th>households</th>\n",
       "      <th>median_income</th>\n",
       "      <th>median_house_value</th>\n",
       "      <th>ocean_proximity</th>\n",
       "    </tr>\n",
       "  </thead>\n",
       "  <tbody>\n",
       "    <tr>\n",
       "      <th>0</th>\n",
       "      <td>-122.23</td>\n",
       "      <td>37.88</td>\n",
       "      <td>41.0</td>\n",
       "      <td>880.0</td>\n",
       "      <td>129.0</td>\n",
       "      <td>322.0</td>\n",
       "      <td>126.0</td>\n",
       "      <td>8.3252</td>\n",
       "      <td>452600.0</td>\n",
       "      <td>NEAR BAY</td>\n",
       "    </tr>\n",
       "    <tr>\n",
       "      <th>1</th>\n",
       "      <td>-122.22</td>\n",
       "      <td>37.86</td>\n",
       "      <td>21.0</td>\n",
       "      <td>7099.0</td>\n",
       "      <td>1106.0</td>\n",
       "      <td>2401.0</td>\n",
       "      <td>1138.0</td>\n",
       "      <td>8.3014</td>\n",
       "      <td>358500.0</td>\n",
       "      <td>NEAR BAY</td>\n",
       "    </tr>\n",
       "    <tr>\n",
       "      <th>2</th>\n",
       "      <td>-122.24</td>\n",
       "      <td>37.85</td>\n",
       "      <td>52.0</td>\n",
       "      <td>1467.0</td>\n",
       "      <td>190.0</td>\n",
       "      <td>496.0</td>\n",
       "      <td>177.0</td>\n",
       "      <td>7.2574</td>\n",
       "      <td>352100.0</td>\n",
       "      <td>NEAR BAY</td>\n",
       "    </tr>\n",
       "    <tr>\n",
       "      <th>3</th>\n",
       "      <td>-122.25</td>\n",
       "      <td>37.85</td>\n",
       "      <td>52.0</td>\n",
       "      <td>1274.0</td>\n",
       "      <td>235.0</td>\n",
       "      <td>558.0</td>\n",
       "      <td>219.0</td>\n",
       "      <td>5.6431</td>\n",
       "      <td>341300.0</td>\n",
       "      <td>NEAR BAY</td>\n",
       "    </tr>\n",
       "    <tr>\n",
       "      <th>4</th>\n",
       "      <td>-122.25</td>\n",
       "      <td>37.85</td>\n",
       "      <td>52.0</td>\n",
       "      <td>1627.0</td>\n",
       "      <td>280.0</td>\n",
       "      <td>565.0</td>\n",
       "      <td>259.0</td>\n",
       "      <td>3.8462</td>\n",
       "      <td>342200.0</td>\n",
       "      <td>NEAR BAY</td>\n",
       "    </tr>\n",
       "  </tbody>\n",
       "</table>\n",
       "</div>"
      ],
      "text/plain": [
       "   longitude  latitude  housing_median_age  total_rooms  total_bedrooms  \\\n",
       "0    -122.23     37.88                41.0        880.0           129.0   \n",
       "1    -122.22     37.86                21.0       7099.0          1106.0   \n",
       "2    -122.24     37.85                52.0       1467.0           190.0   \n",
       "3    -122.25     37.85                52.0       1274.0           235.0   \n",
       "4    -122.25     37.85                52.0       1627.0           280.0   \n",
       "\n",
       "   population  households  median_income  median_house_value ocean_proximity  \n",
       "0       322.0       126.0         8.3252            452600.0        NEAR BAY  \n",
       "1      2401.0      1138.0         8.3014            358500.0        NEAR BAY  \n",
       "2       496.0       177.0         7.2574            352100.0        NEAR BAY  \n",
       "3       558.0       219.0         5.6431            341300.0        NEAR BAY  \n",
       "4       565.0       259.0         3.8462            342200.0        NEAR BAY  "
      ]
     },
     "execution_count": 4,
     "metadata": {},
     "output_type": "execute_result"
    }
   ],
   "source": [
    "df = pd.read_csv(\"housing.csv\")\n",
    "df.head()"
   ]
  },
  {
   "cell_type": "code",
   "execution_count": 14,
   "id": "e9479b07",
   "metadata": {},
   "outputs": [],
   "source": [
    "df = df[df.ocean_proximity.isin(['<1H OCEAN', 'INLAND'])].fillna(0).reset_index(drop=True)\n",
    "df.median_house_value = np.log1p(df.median_house_value)"
   ]
  },
  {
   "cell_type": "code",
   "execution_count": 23,
   "id": "8bd0ac7a",
   "metadata": {},
   "outputs": [],
   "source": [
    "df_full_train, df_test = train_test_split(df, test_size=0.2, random_state=1)\n",
    "df_train, df_val = train_test_split(df_full_train, test_size=0.25, random_state=1)"
   ]
  },
  {
   "cell_type": "code",
   "execution_count": 26,
   "id": "11922a07",
   "metadata": {},
   "outputs": [],
   "source": [
    "x_train = df_train.drop(columns = ['median_house_value'])\n",
    "x_val = df_val.drop(columns = ['median_house_value'])\n",
    "x_test = df_test.drop(columns = ['median_house_value'])\n",
    "\n",
    "y_train = df_train['median_house_value']\n",
    "y_val = df_val['median_house_value']\n",
    "y_test = df_test['median_house_value']\n",
    "\n",
    "del df_full_train['median_house_value']"
   ]
  },
  {
   "cell_type": "code",
   "execution_count": 29,
   "id": "f7bfd449",
   "metadata": {},
   "outputs": [],
   "source": [
    "dv = DictVectorizer(sparse=True)\n",
    "x_train = dv.fit_transform(x_train.to_dict(orient=\"records\"))\n",
    "x_val = dv.transform(x_val.to_dict(orient=\"records\"))\n",
    "x_test = dv.transform(x_test.to_dict(orient=\"records\"))"
   ]
  },
  {
   "cell_type": "markdown",
   "id": "87b1f142",
   "metadata": {},
   "source": [
    "## Question 1"
   ]
  },
  {
   "cell_type": "code",
   "execution_count": 70,
   "id": "8ff6439a",
   "metadata": {},
   "outputs": [],
   "source": [
    "dt = DecisionTreeRegressor(max_depth=1)\n",
    "model_dt = dt.fit(x_train, y_train)"
   ]
  },
  {
   "cell_type": "code",
   "execution_count": 71,
   "id": "a242f3ab",
   "metadata": {},
   "outputs": [
    {
     "data": {
      "text/plain": [
       "['|--- ocean_proximity=<1H OCEAN <= 0.50',\n",
       " '|   |--- value: [11.61]',\n",
       " '|--- ocean_proximity=<1H OCEAN >  0.50',\n",
       " '|   |--- value: [12.30]',\n",
       " '']"
      ]
     },
     "execution_count": 71,
     "metadata": {},
     "output_type": "execute_result"
    }
   ],
   "source": [
    "export_text(model_dt, feature_names=dv.feature_names_).split(\"\\n\")"
   ]
  },
  {
   "cell_type": "markdown",
   "id": "245334dc",
   "metadata": {},
   "source": [
    "- Which feature is used for splitting the data? **ocean_proximity**"
   ]
  },
  {
   "cell_type": "markdown",
   "id": "f32582f5",
   "metadata": {},
   "source": [
    "## Question 2"
   ]
  },
  {
   "cell_type": "code",
   "execution_count": 68,
   "id": "2e90f09f",
   "metadata": {},
   "outputs": [],
   "source": [
    "rf = RandomForestRegressor(n_estimators=10, random_state=1)\n",
    "model_rf = rf.fit(x_train, y_train)\n",
    "y_pred = model_rf.predict(x_val)"
   ]
  },
  {
   "cell_type": "code",
   "execution_count": 69,
   "id": "0451f71a",
   "metadata": {},
   "outputs": [
    {
     "name": "stdout",
     "output_type": "stream",
     "text": [
      "RMSE is 0.245\n"
     ]
    }
   ],
   "source": [
    "rmse = mean_squared_error(y_val, y_pred, squared=False)\n",
    "print(f\"RMSE is {round(rmse, 4)}\")"
   ]
  },
  {
   "cell_type": "markdown",
   "id": "6e079606",
   "metadata": {},
   "source": [
    "## Question 3"
   ]
  },
  {
   "cell_type": "code",
   "execution_count": 78,
   "id": "b88badf0",
   "metadata": {},
   "outputs": [
    {
     "data": {
      "application/vnd.jupyter.widget-view+json": {
       "model_id": "b9ce1ac432cb4a239adc72d04933c23a",
       "version_major": 2,
       "version_minor": 0
      },
      "text/plain": [
       "  0%|          | 0/20 [00:00<?, ?it/s]"
      ]
     },
     "metadata": {},
     "output_type": "display_data"
    },
    {
     "name": "stdout",
     "output_type": "stream",
     "text": [
      "10 --> 0.245\n",
      "20 --> 0.239\n",
      "30 --> 0.237\n",
      "40 --> 0.235\n",
      "50 --> 0.235\n",
      "60 --> 0.235\n",
      "70 --> 0.235\n",
      "80 --> 0.235\n",
      "90 --> 0.235\n",
      "100 --> 0.235\n",
      "110 --> 0.235\n",
      "120 --> 0.234\n",
      "130 --> 0.234\n",
      "140 --> 0.234\n",
      "150 --> 0.234\n",
      "160 --> 0.234\n",
      "170 --> 0.234\n",
      "180 --> 0.234\n",
      "190 --> 0.234\n",
      "200 --> 0.234\n"
     ]
    }
   ],
   "source": [
    "rmses = []\n",
    "for n in tqdm(range(10, 201, 10)):\n",
    "    rf = RandomForestRegressor(n_estimators=n, random_state=1, n_jobs=-1)\n",
    "    model_rf = rf.fit(x_train, y_train)\n",
    "    y_pred = model_rf.predict(x_val)\n",
    "    rmse = mean_squared_error(y_val, y_pred, squared=False)\n",
    "    rmses.append(round(rmse, 3))\n",
    "    print(f\"{n} --> {round(rmse, 3)}\")"
   ]
  },
  {
   "cell_type": "code",
   "execution_count": 79,
   "id": "50ee14e3",
   "metadata": {},
   "outputs": [
    {
     "data": {
      "image/png": "[encoded data removed]",
      "text/plain": [
       "<Figure size 640x480 with 1 Axes>"
      ]
     },
     "metadata": {},
     "output_type": "display_data"
    }
   ],
   "source": [
    "plt.plot(range(10, 201, 10), rmses)\n",
    "plt.xlabel(\"n_estimators\")\n",
    "plt.ylabel(\"RMSE\")\n",
    "plt.show()"
   ]
  },
  {
   "cell_type": "markdown",
   "id": "98dc1b11",
   "metadata": {},
   "source": [
    "- After which value of n_estimators does RMSE stop improving? **120**"
   ]
  },
  {
   "cell_type": "markdown",
   "id": "8e198043",
   "metadata": {},
   "source": [
    "## Question 4"
   ]
  },
  {
   "cell_type": "code",
   "execution_count": 83,
   "id": "56670143",
   "metadata": {},
   "outputs": [
    {
     "data": {
      "application/vnd.jupyter.widget-view+json": {
       "model_id": "6b4d9b52a61e481cb54e99972934e151",
       "version_major": 2,
       "version_minor": 0
      },
      "text/plain": [
       "  0%|          | 0/4 [00:00<?, ?it/s]"
      ]
     },
     "metadata": {},
     "output_type": "display_data"
    },
    {
     "name": "stdout",
     "output_type": "stream",
     "text": [
      "10 --> 0.246\n",
      "15 --> 0.236\n",
      "20 --> 0.235\n",
      "25 --> 0.235\n"
     ]
    }
   ],
   "source": [
    "for d in tqdm([10, 15, 20, 25]):\n",
    "    rmses = []\n",
    "    for n in range(10, 201, 10):\n",
    "        rf = RandomForestRegressor(max_depth=d, n_estimators=n, random_state=1, n_jobs=-1)\n",
    "        model_rf = rf.fit(x_train, y_train)\n",
    "        y_pred = model_rf.predict(x_val)\n",
    "        rmse = mean_squared_error(y_val, y_pred, squared=False)\n",
    "        rmses.append(rmse)\n",
    "    print(f\"{d} --> {round(np.mean(rmses), 3)}\")"
   ]
  },
  {
   "cell_type": "markdown",
   "id": "41b1c418",
   "metadata": {},
   "source": [
    "- What's the best max_depth, using the mean RMSE? **20 and 25**"
   ]
  },
  {
   "cell_type": "markdown",
   "id": "78d8a171",
   "metadata": {},
   "source": [
    "## Question 5"
   ]
  },
  {
   "cell_type": "code",
   "execution_count": 87,
   "id": "4b0ed084",
   "metadata": {},
   "outputs": [],
   "source": [
    "rf = RandomForestRegressor(n_estimators=10,\n",
    "                           max_depth=20,\n",
    "                           random_state=1,\n",
    "                           n_jobs=-1)\n",
    "model_rf = rf.fit(x_train, y_train)"
   ]
  },
  {
   "cell_type": "code",
   "execution_count": 86,
   "id": "f7e230d8",
   "metadata": {},
   "outputs": [
    {
     "name": "stdout",
     "output_type": "stream",
     "text": [
      "households ---> 0.0156\n",
      "housing_median_age ---> 0.0302\n",
      "latitude ---> 0.1027\n",
      "longitude ---> 0.0859\n",
      "median_income ---> 0.3354\n",
      "ocean_proximity=<1H OCEAN ---> 0.2925\n",
      "ocean_proximity=INLAND ---> 0.0738\n",
      "population ---> 0.0272\n",
      "total_bedrooms ---> 0.0156\n",
      "total_rooms ---> 0.0211\n"
     ]
    }
   ],
   "source": [
    "for feature, importance in zip(dv.feature_names_, model_rf.feature_importances_):\n",
    "    print(feature, f\"---> {round(importance, 4)}\")"
   ]
  },
  {
   "cell_type": "markdown",
   "id": "279dc449",
   "metadata": {},
   "source": [
    "- What's the most important feature (among these 4)? **median_income**"
   ]
  },
  {
   "cell_type": "markdown",
   "id": "8abf4a61",
   "metadata": {},
   "source": [
    "## Question 6"
   ]
  },
  {
   "cell_type": "code",
   "execution_count": 126,
   "id": "7ec8de3f",
   "metadata": {
    "scrolled": true
   },
   "outputs": [],
   "source": [
    "features = [feat.replace(\"<\",\"\") for feat in dv.feature_names_]\n",
    "dtrain = xgb.DMatrix(data=x_train, label=y_train, feature_names=features)\n",
    "dval = xgb.DMatrix(data=x_val, label=y_val, feature_names=features)\n",
    "watchlist = [(dtrain, \"train\"), (dval, \"val\")]"
   ]
  },
  {
   "cell_type": "code",
   "execution_count": 159,
   "id": "42c2d72a",
   "metadata": {},
   "outputs": [],
   "source": [
    "%%capture output\n",
    "xgb_params = {\n",
    "    'eta': 0.3, \n",
    "    'max_depth': 6,\n",
    "    'min_child_weight': 1,\n",
    "    \n",
    "    'objective': 'reg:squarederror',\n",
    "    'nthread': 8,\n",
    "    \n",
    "    'seed': 1,\n",
    "    'verbosity': 1,\n",
    "}\n",
    "model_xgb = xgb.train(params= xgb_params, dtrain = dtrain,\n",
    "                      evals= watchlist, num_boost_round = 100)"
   ]
  },
  {
   "cell_type": "code",
   "execution_count": 160,
   "id": "b9c6476c",
   "metadata": {},
   "outputs": [
    {
     "data": {
      "text/html": [
       "<div>\n",
       "<style scoped>\n",
       "    .dataframe tbody tr th:only-of-type {\n",
       "        vertical-align: middle;\n",
       "    }\n",
       "\n",
       "    .dataframe tbody tr th {\n",
       "        vertical-align: top;\n",
       "    }\n",
       "\n",
       "    .dataframe thead th {\n",
       "        text-align: right;\n",
       "    }\n",
       "</style>\n",
       "<table border=\"1\" class=\"dataframe\">\n",
       "  <thead>\n",
       "    <tr style=\"text-align: right;\">\n",
       "      <th></th>\n",
       "      <th>n_iters</th>\n",
       "      <th>dtrain_rmse</th>\n",
       "      <th>dval_rmse</th>\n",
       "    </tr>\n",
       "  </thead>\n",
       "  <tbody>\n",
       "    <tr>\n",
       "      <th>0</th>\n",
       "      <td>0</td>\n",
       "      <td>0.44350</td>\n",
       "      <td>0.44250</td>\n",
       "    </tr>\n",
       "    <tr>\n",
       "      <th>1</th>\n",
       "      <td>1</td>\n",
       "      <td>0.36599</td>\n",
       "      <td>0.36916</td>\n",
       "    </tr>\n",
       "    <tr>\n",
       "      <th>2</th>\n",
       "      <td>2</td>\n",
       "      <td>0.31556</td>\n",
       "      <td>0.32382</td>\n",
       "    </tr>\n",
       "    <tr>\n",
       "      <th>3</th>\n",
       "      <td>3</td>\n",
       "      <td>0.28541</td>\n",
       "      <td>0.29965</td>\n",
       "    </tr>\n",
       "    <tr>\n",
       "      <th>4</th>\n",
       "      <td>4</td>\n",
       "      <td>0.26573</td>\n",
       "      <td>0.28417</td>\n",
       "    </tr>\n",
       "  </tbody>\n",
       "</table>\n",
       "</div>"
      ],
      "text/plain": [
       "   n_iters  dtrain_rmse  dval_rmse\n",
       "0        0      0.44350    0.44250\n",
       "1        1      0.36599    0.36916\n",
       "2        2      0.31556    0.32382\n",
       "3        3      0.28541    0.29965\n",
       "4        4      0.26573    0.28417"
      ]
     },
     "execution_count": 160,
     "metadata": {},
     "output_type": "execute_result"
    }
   ],
   "source": [
    "lines = output.stdout.split('\\n')\n",
    "\n",
    "history_data = pd.Series(np.array(lines)).str.split('\\t')[:-1]\n",
    "history_03 = pd.DataFrame.from_records(history_data,\n",
    "                                    columns=('n_iters', 'dtrain_rmse', 'dval_rmse'))\n",
    "history_03.n_iters = history_03.n_iters.str.strip('[]').astype(int)\n",
    "transform_auc = lambda col: history_03[col].str.split(':').str[1].astype(float)\n",
    "history_03.dtrain_rmse = transform_auc('dtrain_rmse')\n",
    "history_03.dval_rmse = transform_auc('dval_rmse')\n",
    "history_03.head()"
   ]
  },
  {
   "cell_type": "code",
   "execution_count": 161,
   "id": "e34f95f6",
   "metadata": {},
   "outputs": [
    {
     "data": {
      "image/png": "[encoded data removed]",
      "text/plain": [
       "<Figure size 640x480 with 1 Axes>"
      ]
     },
     "metadata": {},
     "output_type": "display_data"
    }
   ],
   "source": [
    "plt.plot(history_01.n_iters, history_01.dtrain_rmse, label=\"0.1\")\n",
    "plt.plot(history_03.n_iters, history_03.dtrain_rmse, label=\"0.3\")\n",
    "plt.xlabel(\"Number of iterations\")\n",
    "plt.ylabel(\"RMSE\")\n",
    "plt.title(\"Train\")\n",
    "plt.legend()\n",
    "plt.show()"
   ]
  },
  {
   "cell_type": "code",
   "execution_count": 157,
   "id": "bd09c477",
   "metadata": {},
   "outputs": [
    {
     "data": {
      "text/html": [
       "<div>\n",
       "<style scoped>\n",
       "    .dataframe tbody tr th:only-of-type {\n",
       "        vertical-align: middle;\n",
       "    }\n",
       "\n",
       "    .dataframe tbody tr th {\n",
       "        vertical-align: top;\n",
       "    }\n",
       "\n",
       "    .dataframe thead th {\n",
       "        text-align: right;\n",
       "    }\n",
       "</style>\n",
       "<table border=\"1\" class=\"dataframe\">\n",
       "  <thead>\n",
       "    <tr style=\"text-align: right;\">\n",
       "      <th></th>\n",
       "      <th>n_iters</th>\n",
       "      <th>dtrain_rmse</th>\n",
       "      <th>dval_rmse</th>\n",
       "    </tr>\n",
       "  </thead>\n",
       "  <tbody>\n",
       "    <tr>\n",
       "      <th>0</th>\n",
       "      <td>0</td>\n",
       "      <td>0.52449</td>\n",
       "      <td>0.52045</td>\n",
       "    </tr>\n",
       "    <tr>\n",
       "      <th>1</th>\n",
       "      <td>1</td>\n",
       "      <td>0.48736</td>\n",
       "      <td>0.48443</td>\n",
       "    </tr>\n",
       "    <tr>\n",
       "      <th>2</th>\n",
       "      <td>2</td>\n",
       "      <td>0.45433</td>\n",
       "      <td>0.45293</td>\n",
       "    </tr>\n",
       "    <tr>\n",
       "      <th>3</th>\n",
       "      <td>3</td>\n",
       "      <td>0.42533</td>\n",
       "      <td>0.42550</td>\n",
       "    </tr>\n",
       "    <tr>\n",
       "      <th>4</th>\n",
       "      <td>4</td>\n",
       "      <td>0.39987</td>\n",
       "      <td>0.40144</td>\n",
       "    </tr>\n",
       "  </tbody>\n",
       "</table>\n",
       "</div>"
      ],
      "text/plain": [
       "   n_iters  dtrain_rmse  dval_rmse\n",
       "0        0      0.52449    0.52045\n",
       "1        1      0.48736    0.48443\n",
       "2        2      0.45433    0.45293\n",
       "3        3      0.42533    0.42550\n",
       "4        4      0.39987    0.40144"
      ]
     },
     "execution_count": 157,
     "metadata": {},
     "output_type": "execute_result"
    }
   ],
   "source": [
    "lines = output.stdout.split('\\n')\n",
    "\n",
    "history_data = pd.Series(np.array(lines)).str.split('\\t')[:-1]\n",
    "history_01 = pd.DataFrame.from_records(history_data,\n",
    "                                    columns=('n_iters', 'dtrain_rmse', 'dval_rmse'))\n",
    "history_01.n_iters = history_01.n_iters.str.strip('[]').astype(int)\n",
    "transform_auc = lambda col: history_01[col].str.split(':').str[1].astype(float)\n",
    "history_01.dtrain_rmse = transform_auc('dtrain_rmse')\n",
    "history_01.dval_rmse = transform_auc('dval_rmse')\n",
    "history_01.head()"
   ]
  },
  {
   "cell_type": "code",
   "execution_count": 162,
   "id": "70fe3831",
   "metadata": {},
   "outputs": [
    {
     "data": {
      "image/png": "[encoded data removed]",
      "text/plain": [
       "<Figure size 640x480 with 1 Axes>"
      ]
     },
     "metadata": {},
     "output_type": "display_data"
    }
   ],
   "source": [
    "plt.plot(history_01.n_iters, history_01.dval_rmse, label=\"0.1\")\n",
    "plt.plot(history_03.n_iters, history_03.dval_rmse, label=\"0.3\")\n",
    "plt.xlabel(\"Number of iterations\")\n",
    "plt.ylabel(\"RMSE\")\n",
    "plt.title(\"Val\")\n",
    "plt.legend()\n",
    "plt.show()"
   ]
  },
  {
   "cell_type": "markdown",
   "id": "95e158fd",
   "metadata": {},
   "source": [
    "- Which eta leads to the best RMSE score on the validation dataset? **0.3**"
   ]
  }
 ],
 "metadata": {
  "kernelspec": {
   "display_name": "Python 3 (ipykernel)",
   "language": "python",
   "name": "python3"
  },
  "language_info": {
   "codemirror_mode": {
    "name": "ipython",
    "version": 3
   },
   "file_extension": ".py",
   "mimetype": "text/x-python",
   "name": "python",
   "nbconvert_exporter": "python",
   "pygments_lexer": "ipython3",
   "version": "3.11.5"
  }
 },
 "nbformat": 4,
 "nbformat_minor": 5
}
